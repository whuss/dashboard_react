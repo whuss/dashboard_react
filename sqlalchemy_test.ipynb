{
 "cells": [
  {
   "cell_type": "code",
   "execution_count": 1,
   "metadata": {},
   "outputs": [],
   "source": [
    "import sqlalchemy as db\n",
    "from sqlalchemy.ext.declarative import declarative_base\n",
    "\n",
    "_host: str = \"83.175.125.85\"\n",
    "_user: str = \"infinity\"\n",
    "_password: str = \"iGe9kH9j\"\n",
    "_dbname: str = \"bbf_inf_rep\"\n",
    "\n",
    "engine = db.create_engine(f'mysql://{_user}:{_password}@{_host}/{_dbname}')\n",
    "\n",
    "Base = declarative_base()\n",
    "Base.metadata.bind = engine\n",
    "\n",
    "connection = engine.connect()\n",
    "metadata = db.MetaData()\n",
    "#device_info = db.Table('DeviceInfo', metadata, autoload=True, autoload_with=engine)\n",
    "#lighting_package = db.Table('LightingPackage', metadata, autoload=True, autoload_with=engine)"
   ]
  },
  {
   "cell_type": "code",
   "execution_count": 2,
   "metadata": {},
   "outputs": [],
   "source": [
    "from sqlalchemy.orm import sessionmaker\n",
    "Session = sessionmaker(bind=engine)\n",
    "session = Session()"
   ]
  },
  {
   "cell_type": "code",
   "execution_count": 6,
   "metadata": {},
   "outputs": [
    {
     "data": {
      "text/plain": [
       "['pk_device_id', 'uk_device_sn', 'device_mode_ind', 'last_update_dtm']"
      ]
     },
     "execution_count": 6,
     "metadata": {},
     "output_type": "execute_result"
    }
   ],
   "source": [
    "device_info.columns.keys()"
   ]
  },
  {
   "cell_type": "code",
   "execution_count": 7,
   "metadata": {},
   "outputs": [
    {
     "data": {
      "text/plain": [
       "Column('pk_device_id', INTEGER(display_width=10, unsigned=True), table=<DeviceInfo>, primary_key=True, nullable=False)"
      ]
     },
     "execution_count": 7,
     "metadata": {},
     "output_type": "execute_result"
    }
   ],
   "source": [
    "device_info.columns.pk_device_id"
   ]
  },
  {
   "cell_type": "code",
   "execution_count": 8,
   "metadata": {},
   "outputs": [
    {
     "data": {
      "text/plain": [
       "['pk_lighting_package_id',\n",
       " 'ix_device_sn',\n",
       " 'service_sn',\n",
       " 'ix_source_sn',\n",
       " 'ix_data_dtm',\n",
       " 'ix_mode_ind',\n",
       " 'settings_jsn',\n",
       " 'create_dtm']"
      ]
     },
     "execution_count": 8,
     "metadata": {},
     "output_type": "execute_result"
    }
   ],
   "source": [
    "lighting_package.columns.keys()"
   ]
  },
  {
   "cell_type": "markdown",
   "metadata": {},
   "source": [
    "# Reflect all tables at once"
   ]
  },
  {
   "cell_type": "code",
   "execution_count": 3,
   "metadata": {},
   "outputs": [],
   "source": [
    "metadata.reflect(bind=engine)"
   ]
  },
  {
   "cell_type": "code",
   "execution_count": 4,
   "metadata": {},
   "outputs": [
    {
     "data": {
      "text/plain": [
       "['BrightnessPackage',\n",
       " 'DeviceInfo',\n",
       " 'ErrorPackage',\n",
       " 'GasPackage',\n",
       " 'GazeZonePackage',\n",
       " 'HumidityPackage',\n",
       " 'InstructionPackage',\n",
       " 'KeyboardPackage',\n",
       " 'LightingPackage',\n",
       " 'LoudnessPackage',\n",
       " 'MouseClickPackage',\n",
       " 'MouseGesturePackage',\n",
       " 'MouseWheelPackage',\n",
       " 'NotificationPackage',\n",
       " 'PressurePackage',\n",
       " 'TemperaturePackage']"
      ]
     },
     "execution_count": 4,
     "metadata": {},
     "output_type": "execute_result"
    }
   ],
   "source": [
    "list(metadata.tables.keys())"
   ]
  },
  {
   "cell_type": "code",
   "execution_count": 5,
   "metadata": {},
   "outputs": [],
   "source": [
    "device_info = metadata.tables['DeviceInfo']\n",
    "lighting_package = metadata.tables['LightingPackage']\n",
    "brightness_package = metadata.tables['BrightnessPackage']\n",
    "error_package = metadata.tables['ErrorPackage']\n",
    "gas_package = metadata.tables['GasPackage']\n",
    "gaze_zone_package = metadata.tables['GazeZonePackage']\n",
    "humidity_package = metadata.tables['HumidityPackage']\n",
    "instruction_package = metadata.tables['InstructionPackage']\n",
    "keyboard_package = metadata.tables['KeyboardPackage']\n",
    "loudness_package = metadata.tables['LoudnessPackage']\n",
    "mouse_click_package = metadata.tables['MouseClickPackage']\n",
    "mouse_gesture_package = metadata.tables['MouseGesturePackage']\n",
    "mouse_wheel_package = metadata.tables['MouseWheelPackage']\n",
    "notification_package = metadata.tables['NotificationPackage']\n",
    "pressure_package = metadata.tables['PressurePackage']\n",
    "temperatur_package = metadata.tables['TemperaturePackage']"
   ]
  },
  {
   "cell_type": "markdown",
   "metadata": {},
   "source": [
    "# Rename columns"
   ]
  },
  {
   "cell_type": "code",
   "execution_count": 9,
   "metadata": {},
   "outputs": [
    {
     "data": {
      "text/plain": [
       "['pk_brightness_package',\n",
       " 'ix_device_sn',\n",
       " 'service_sn',\n",
       " 'ix_source_sn',\n",
       " 'ix_data_dtm',\n",
       " 'brightness_int',\n",
       " 'unit_sn',\n",
       " 'create_dtm']"
      ]
     },
     "execution_count": 9,
     "metadata": {},
     "output_type": "execute_result"
    }
   ],
   "source": [
    "brightness_package.columns.keys()"
   ]
  },
  {
   "cell_type": "code",
   "execution_count": 6,
   "metadata": {},
   "outputs": [],
   "source": [
    "class DeviceInfo(Base):\n",
    "    __tablename__ = 'DeviceInfo'\n",
    "    __table_args__ = dict(autoload=True)\n",
    "    \n",
    "    device = db.Column('uk_device_sn', key='device')\n",
    "    mode = db.Column('device_mode_ind', key='mode')\n",
    "    last_update = db.Column('last_update_dtm', key='last_update')"
   ]
  },
  {
   "cell_type": "code",
   "execution_count": 13,
   "metadata": {},
   "outputs": [
    {
     "data": {
      "text/plain": [
       "[('PTL_LT_AT_001'),\n",
       " ('PTL_LT_AT_002'),\n",
       " ('PTL_LT_AT_003'),\n",
       " ('PTL_LT_AT_004'),\n",
       " ('PTL_RD_AT_000'),\n",
       " ('PTL_RD_AT_001'),\n",
       " ('PTL_RD_AT_002'),\n",
       " ('PTL_RD_AT_003'),\n",
       " ('PTL_RD_AT_004'),\n",
       " ('PTL_RD_DE_001'),\n",
       " ('PTL_RD_DE_002'),\n",
       " ('PTL_RD_DE_003'),\n",
       " ('PTL_RD_DE_004'),\n",
       " ('PTL_RD_ES_001'),\n",
       " ('PTL_RD_ES_002'),\n",
       " ('PTL_RD_ES_003'),\n",
       " ('PTL_RD_ES_004'),\n",
       " ('PTL_RD_ES_005'),\n",
       " ('PTL_RD_ES_006'),\n",
       " ('PTL_RD_ES_007'),\n",
       " ('PTL_RD_ES_008'),\n",
       " ('PTL_RD_ES_009'),\n",
       " ('PTL_RD_ES_010'),\n",
       " ('PTL_RD_ES_011'),\n",
       " ('PTL_RD_ES_012')]"
      ]
     },
     "execution_count": 13,
     "metadata": {},
     "output_type": "execute_result"
    }
   ],
   "source": [
    "session.query(DeviceInfo.device).all()"
   ]
  },
  {
   "cell_type": "code",
   "execution_count": 20,
   "metadata": {},
   "outputs": [
    {
     "data": {
      "text/plain": [
       "['pk_temperature_package_id',\n",
       " 'ix_device_sn',\n",
       " 'service_sn',\n",
       " 'ix_source_sn',\n",
       " 'ix_data_dtm',\n",
       " 'temperature_dbl',\n",
       " 'unit_sn',\n",
       " 'create_dtm']"
      ]
     },
     "execution_count": 20,
     "metadata": {},
     "output_type": "execute_result"
    }
   ],
   "source": [
    "temperatur_package.columns.keys()"
   ]
  },
  {
   "cell_type": "code",
   "execution_count": null,
   "metadata": {},
   "outputs": [],
   "source": []
  },
  {
   "cell_type": "code",
   "execution_count": 41,
   "metadata": {},
   "outputs": [
    {
     "data": {
      "text/plain": [
       "[(1, 'PTL_RD_ES_001', 'FULL', datetime.datetime(2020, 2, 6, 11, 42, 11)),\n",
       " (4, 'PTL_RD_ES_002', 'FULL', datetime.datetime(2020, 2, 3, 15, 25, 13)),\n",
       " (5, 'PTL_RD_ES_003', 'FULL', datetime.datetime(2020, 2, 5, 8, 58, 3)),\n",
       " (6, 'PTL_RD_ES_004', 'FULL', datetime.datetime(2020, 2, 6, 11, 42, 10)),\n",
       " (7, 'PTL_RD_ES_005', 'FULL', datetime.datetime(2020, 1, 28, 12, 0))]"
      ]
     },
     "execution_count": 41,
     "metadata": {},
     "output_type": "execute_result"
    }
   ],
   "source": [
    "# ----- MOUSE QUERY ----------------------------------------------------------------------------------------------------query = db.select([device_info])\n",
    "proxy = connection.execute(query)\n",
    "result = proxy.fetchmany(size=5)\n",
    "result"
   ]
  },
  {
   "cell_type": "code",
   "execution_count": 127,
   "metadata": {},
   "outputs": [
    {
     "data": {
      "text/plain": [
       "[(1, 'PTL_RD_ES_001', 'FULL', datetime.datetime(2020, 2, 6, 12, 11, 2)),\n",
       " (4, 'PTL_RD_ES_002', 'FULL', datetime.datetime(2020, 2, 3, 15, 25, 13)),\n",
       " (5, 'PTL_RD_ES_003', 'FULL', datetime.datetime(2020, 2, 5, 8, 58, 3)),\n",
       " (6, 'PTL_RD_ES_004', 'FULL', datetime.datetime(2020, 2, 6, 12, 43, 36)),\n",
       " (7, 'PTL_RD_ES_005', 'FULL', datetime.datetime(2020, 1, 28, 12, 0)),\n",
       " (8, 'PTL_RD_ES_006', 'FULL', datetime.datetime(2020, 2, 6, 12, 43, 36)),\n",
       " (9, 'PTL_RD_ES_007', 'FULL', datetime.datetime(2020, 2, 5, 23, 59, 58)),\n",
       " (11, 'PTL_RD_ES_008', 'FULL', datetime.datetime(2020, 1, 28, 12, 0)),\n",
       " (12, 'PTL_RD_ES_009', 'FULL', datetime.datetime(2020, 2, 6, 12, 43, 36)),\n",
       " (13, 'PTL_RD_ES_010', 'FULL', datetime.datetime(2020, 2, 5, 23, 59, 58)),\n",
       " (14, 'PTL_RD_ES_011', 'FULL', datetime.datetime(2020, 2, 6, 12, 43, 35)),\n",
       " (15, 'PTL_RD_ES_012', 'FULL', datetime.datetime(2020, 2, 6, 11, 40, 32)),\n",
       " (16, 'PTL_RD_DE_001', 'FULL', datetime.datetime(2020, 1, 28, 12, 0)),\n",
       " (17, 'PTL_RD_DE_002', 'FULL', datetime.datetime(2020, 1, 28, 12, 0)),\n",
       " (18, 'PTL_RD_DE_003', 'FULL', datetime.datetime(2020, 1, 28, 12, 0)),\n",
       " (19, 'PTL_RD_DE_004', 'FULL', datetime.datetime(2020, 1, 28, 12, 0)),\n",
       " (20, 'PTL_RD_AT_001', 'FULL', datetime.datetime(2020, 1, 28, 12, 0)),\n",
       " (21, 'PTL_RD_AT_002', 'FULL', datetime.datetime(2020, 1, 28, 12, 0)),\n",
       " (22, 'PTL_RD_AT_003', 'FULL', datetime.datetime(2020, 1, 28, 12, 0)),\n",
       " (23, 'PTL_RD_AT_004', 'FULL', datetime.datetime(2020, 1, 28, 12, 0)),\n",
       " (24, 'PTL_LT_AT_001', 'NORM', datetime.datetime(2020, 1, 28, 12, 0)),\n",
       " (25, 'PTL_LT_AT_002', 'NORM', datetime.datetime(2020, 1, 28, 12, 0)),\n",
       " (26, 'PTL_LT_AT_003', 'NORM', datetime.datetime(2020, 1, 28, 12, 0)),\n",
       " (27, 'PTL_LT_AT_004', 'NORM', datetime.datetime(2020, 1, 28, 12, 0)),\n",
       " (28, 'PTL_RD_AT_000', 'FULL', datetime.datetime(2020, 2, 6, 12, 43, 35))]"
      ]
     },
     "execution_count": 127,
     "metadata": {},
     "output_type": "execute_result"
    }
   ],
   "source": [
    "query = session.query(device_info)\n",
    "query.all()"
   ]
  },
  {
   "cell_type": "code",
   "execution_count": 13,
   "metadata": {},
   "outputs": [
    {
     "data": {
      "text/plain": [
       "[('PTL_RD_ES_001', 'FULL', datetime.datetime(2020, 2, 6, 16, 52, 33)),\n",
       " ('PTL_RD_ES_002', 'FULL', datetime.datetime(2020, 2, 3, 15, 25, 13)),\n",
       " ('PTL_RD_ES_003', 'FULL', datetime.datetime(2020, 2, 5, 8, 58, 3)),\n",
       " ('PTL_RD_ES_004', 'FULL', datetime.datetime(2020, 2, 6, 16, 52, 33)),\n",
       " ('PTL_RD_ES_005', 'FULL', datetime.datetime(2020, 1, 28, 12, 0)),\n",
       " ('PTL_RD_ES_006', 'FULL', datetime.datetime(2020, 2, 6, 16, 52, 33)),\n",
       " ('PTL_RD_ES_007', 'FULL', datetime.datetime(2020, 2, 6, 16, 26, 5)),\n",
       " ('PTL_RD_ES_008', 'FULL', datetime.datetime(2020, 1, 28, 12, 0)),\n",
       " ('PTL_RD_ES_009', 'FULL', datetime.datetime(2020, 2, 6, 16, 52, 33)),\n",
       " ('PTL_RD_ES_010', 'FULL', datetime.datetime(2020, 2, 6, 16, 52, 33)),\n",
       " ('PTL_RD_ES_011', 'FULL', datetime.datetime(2020, 2, 6, 16, 52, 33)),\n",
       " ('PTL_RD_ES_012', 'FULL', datetime.datetime(2020, 2, 6, 16, 8, 22)),\n",
       " ('PTL_RD_DE_001', 'FULL', datetime.datetime(2020, 1, 28, 12, 0)),\n",
       " ('PTL_RD_DE_002', 'FULL', datetime.datetime(2020, 1, 28, 12, 0)),\n",
       " ('PTL_RD_DE_003', 'FULL', datetime.datetime(2020, 1, 28, 12, 0)),\n",
       " ('PTL_RD_DE_004', 'FULL', datetime.datetime(2020, 1, 28, 12, 0)),\n",
       " ('PTL_RD_AT_001', 'FULL', datetime.datetime(2020, 1, 28, 12, 0)),\n",
       " ('PTL_RD_AT_002', 'FULL', datetime.datetime(2020, 1, 28, 12, 0)),\n",
       " ('PTL_RD_AT_003', 'FULL', datetime.datetime(2020, 1, 28, 12, 0)),\n",
       " ('PTL_RD_AT_004', 'FULL', datetime.datetime(2020, 1, 28, 12, 0)),\n",
       " ('PTL_LT_AT_001', 'NORM', datetime.datetime(2020, 1, 28, 12, 0)),\n",
       " ('PTL_LT_AT_002', 'NORM', datetime.datetime(2020, 1, 28, 12, 0)),\n",
       " ('PTL_LT_AT_003', 'NORM', datetime.datetime(2020, 1, 28, 12, 0)),\n",
       " ('PTL_LT_AT_004', 'NORM', datetime.datetime(2020, 1, 28, 12, 0)),\n",
       " ('PTL_RD_AT_000', 'FULL', datetime.datetime(2020, 2, 6, 16, 52, 28))]"
      ]
     },
     "execution_count": 13,
     "metadata": {},
     "output_type": "execute_result"
    }
   ],
   "source": [
    "#SELECT info.uk_device_sn, info.device_mode_ind, info.last_update_dtm FROM bbf_inf_rep.DeviceInfo info;\n",
    "query_info = session.query(device_info.columns.uk_device_sn, device_info.columns.device_mode_ind, device_info.columns.last_update_dtm)\n",
    "query_info.all()"
   ]
  },
  {
   "cell_type": "code",
   "execution_count": 25,
   "metadata": {},
   "outputs": [
    {
     "data": {
      "text/plain": [
       "['pk_lighting_package_id',\n",
       " 'ix_device_sn',\n",
       " 'service_sn',\n",
       " 'ix_source_sn',\n",
       " 'ix_data_dtm',\n",
       " 'ix_mode_ind',\n",
       " 'settings_jsn',\n",
       " 'create_dtm']"
      ]
     },
     "execution_count": 25,
     "metadata": {},
     "output_type": "execute_result"
    }
   ],
   "source": [
    "lc.keys()"
   ]
  },
  {
   "cell_type": "code",
   "execution_count": 26,
   "metadata": {},
   "outputs": [
    {
     "data": {
      "text/plain": [
       "(1,\n",
       " 'PTL_RD_ES_001',\n",
       " 'None@Flux',\n",
       " 'None@Flux',\n",
       " datetime.datetime(2020, 1, 14, 9, 53, 1, 352988),\n",
       " 'AUTO',\n",
       " '[3750, 0.21, 3750, 0.21, 3750, 0.21, 3750, 0.21, 3750, 0.21, 3750, 0.21, 3750, 0.21, 3750, 0.21, 3750, 0.21, 3750, 0.21, 3750, 0.21, 3750, 0.21, 3750, 0.21, 3750, 0.21, 3750, 0.21, 3750, 0.21, 3750, 0.21, 3750, 0.21, 3750, 0.21, 3750, 0.21, 3750, 0.21, 3750, 0.21, 3750, 0.21, 3750, 0.21]',\n",
       " datetime.datetime(2020, 1, 14, 9, 53, 1))"
      ]
     },
     "execution_count": 26,
     "metadata": {},
     "output_type": "execute_result"
    }
   ],
   "source": [
    "session.query(lighting_package).first()"
   ]
  },
  {
   "cell_type": "code",
   "execution_count": 14,
   "metadata": {},
   "outputs": [],
   "source": [
    "class LightingPackage(Base):\n",
    "    __tablename__ = 'LightingPackage'\n",
    "    __table_args__ = dict(autoload=True)\n",
    "    \n",
    "    id = db.Column('pk_lighting_package_id', db.Integer, primary_key=True, key='id')\n",
    "    device = db.Column('ix_device_sn', key='device')\n",
    "    timestamp = db.Column('create_dtm', key='timestamp')\n",
    "    mode = db.Column('ix_mode_ind', key='mode')"
   ]
  },
  {
   "cell_type": "code",
   "execution_count": 10,
   "metadata": {},
   "outputs": [],
   "source": [
    "lastone = db.func.max(LightingPackage.id).label('lastone')\n",
    "last_light_package = session.query(LightingPackage.device, lastone) \\\n",
    "                            .group_by(LightingPackage.device)"
   ]
  },
  {
   "cell_type": "code",
   "execution_count": 11,
   "metadata": {},
   "outputs": [
    {
     "data": {
      "text/plain": [
       "[('PTL_DEFAULT', 22725, 'AUTO'),\n",
       " ('PTL_ES_001', 20042, 'AUTO'),\n",
       " ('PTL_RD_AT_000', 113156, 'OFF'),\n",
       " ('PTL_RD_ES_001', 117416, 'AUTO'),\n",
       " ('PTL_RD_ES_002', 20087, 'OFF'),\n",
       " ('PTL_RD_ES_004', 106097, 'AUTO'),\n",
       " ('PTL_RD_ES_006', 117415, 'AUTO'),\n",
       " ('PTL_RD_ES_007', 104289, 'AUTO'),\n",
       " ('PTL_RD_ES_009', 117271, 'AUTO'),\n",
       " ('PTL_RD_ES_010', 117413, 'AUTO'),\n",
       " ('PTL_RD_ES_011', 117409, 'AUTO'),\n",
       " ('PTL_RD_ES_012', 103433, 'AUTO')]"
      ]
     },
     "execution_count": 11,
     "metadata": {},
     "output_type": "execute_result"
    }
   ],
   "source": [
    "sq = last_light_package.subquery()\n",
    "session.query(LightingPackage.device, LightingPackage.id, LightingPackage.mode) \\\n",
    "       .join(sq, sq.columns.lastone == LightingPackage.id) \\\n",
    "       .group_by(LightingPackage.device).all()"
   ]
  },
  {
   "cell_type": "code",
   "execution_count": 12,
   "metadata": {},
   "outputs": [
    {
     "data": {
      "text/plain": [
       "[('PTL_DEFAULT', 310),\n",
       " ('PTL_ES_001', 3),\n",
       " ('PTL_RD_AT_000', 6489),\n",
       " ('PTL_RD_ES_001', 61002),\n",
       " ('PTL_RD_ES_002', 45),\n",
       " ('PTL_RD_ES_004', 12261),\n",
       " ('PTL_RD_ES_006', 9616),\n",
       " ('PTL_RD_ES_007', 5933),\n",
       " ('PTL_RD_ES_009', 2221),\n",
       " ('PTL_RD_ES_010', 6868),\n",
       " ('PTL_RD_ES_011', 12165),\n",
       " ('PTL_RD_ES_012', 499)]"
      ]
     },
     "execution_count": 12,
     "metadata": {},
     "output_type": "execute_result"
    }
   ],
   "source": [
    "# SELECT ix_device_sn, COUNT(*) AS light_count\n",
    "# FROM bbf_inf_rep.LightingPackage\n",
    "# WHERE ix_data_dtm>='2020-01-01 00:00:00'\n",
    "# GROUP BY ix_device_sn;\n",
    "\n",
    "light = lighting_package\n",
    "\n",
    "from datetime import datetime\n",
    "start_date = datetime.strptime('2020-01-01 00:00:00', \"%Y-%m-%d %H:%M:%S\")\n",
    "\n",
    "query_light = session.query(light.columns.ix_device_sn, db.func.count(light.columns).label('light_count')) \\\n",
    "                     .filter(light.columns.ix_data_dtm >= start_date) \\\n",
    "                     .group_by(light.columns.ix_device_sn)\n",
    "query_light.all()"
   ]
  },
  {
   "cell_type": "code",
   "execution_count": 16,
   "metadata": {},
   "outputs": [],
   "source": [
    "from datetime import datetime\n",
    "start_date = datetime.strptime('2020-01-01 00:00:00', \"%Y-%m-%d %H:%M:%S\")"
   ]
  },
  {
   "cell_type": "code",
   "execution_count": 17,
   "metadata": {},
   "outputs": [
    {
     "data": {
      "text/plain": [
       "[('PTL_DEFAULT', 310),\n",
       " ('PTL_ES_001', 3),\n",
       " ('PTL_RD_AT_000', 6489),\n",
       " ('PTL_RD_ES_001', 61185),\n",
       " ('PTL_RD_ES_002', 45),\n",
       " ('PTL_RD_ES_004', 12261),\n",
       " ('PTL_RD_ES_006', 10169),\n",
       " ('PTL_RD_ES_007', 5933),\n",
       " ('PTL_RD_ES_009', 2304),\n",
       " ('PTL_RD_ES_010', 7270),\n",
       " ('PTL_RD_ES_011', 13010),\n",
       " ('PTL_RD_ES_012', 499)]"
      ]
     },
     "execution_count": 17,
     "metadata": {},
     "output_type": "execute_result"
    }
   ],
   "source": [
    "LP = LightingPackage\n",
    "light_count = db.func.count(LP.id).label('light_count')\n",
    "query_light = session.query(LP.device, light_count) \\\n",
    "                     .filter(LP.timestamp >= start_date) \\\n",
    "                     .group_by(LP.device)\n",
    "query_light.all()"
   ]
  },
  {
   "cell_type": "code",
   "execution_count": 19,
   "metadata": {},
   "outputs": [
    {
     "data": {
      "text/plain": [
       "Column('ix_device_sn', NullType(), table=<%(140049386218384 anon)s>, key='device')"
      ]
     },
     "execution_count": 19,
     "metadata": {},
     "output_type": "execute_result"
    }
   ],
   "source": [
    "sq = query_light.subquery()\n",
    "sq.c.device"
   ]
  },
  {
   "cell_type": "code",
   "execution_count": 19,
   "metadata": {},
   "outputs": [],
   "source": [
    "class MouseGesturePackage(Base):\n",
    "    __tablename__ = 'MouseGesturePackage'\n",
    "    __table_args__ = dict(autoload=True)\n",
    "    \n",
    "    id = db.Column('pk_mouse_gesture_package_id', db.Integer, primary_key=True)\n",
    "    device = db.Column('ix_device_sn')\n",
    "    timestamp = db.Column('create_dtm')"
   ]
  },
  {
   "cell_type": "code",
   "execution_count": 77,
   "metadata": {},
   "outputs": [],
   "source": [
    "MP = MouseGesturePackage\n",
    "mouse_count = db.func.count(MP.id).label('mouse_count')\n",
    "query_mouse = session.query(MP.device.label('device'), mouse_count) \\\n",
    "                     .filter(MP.timestamp >= start_date) \\\n",
    "                     .group_by(MP.device)"
   ]
  },
  {
   "cell_type": "code",
   "execution_count": 78,
   "metadata": {},
   "outputs": [
    {
     "data": {
      "text/plain": [
       "[('PTL_DEFAULT', 13),\n",
       " ('PTL_ES_001', 10),\n",
       " ('PTL_RD_AT_000', 541),\n",
       " ('PTL_RD_ES_001', 12282),\n",
       " ('PTL_RD_ES_002', 120),\n",
       " ('PTL_RD_ES_006', 1001),\n",
       " ('PTL_RD_ES_007', 1056),\n",
       " ('PTL_RD_ES_009', 934),\n",
       " ('PTL_RD_ES_010', 891),\n",
       " ('PTL_RD_ES_011', 12)]"
      ]
     },
     "execution_count": 78,
     "metadata": {},
     "output_type": "execute_result"
    }
   ],
   "source": [
    "query_mouse.all()"
   ]
  },
  {
   "cell_type": "code",
   "execution_count": 79,
   "metadata": {},
   "outputs": [
    {
     "data": {
      "text/plain": [
       "['device', 'mouse_count']"
      ]
     },
     "execution_count": 79,
     "metadata": {},
     "output_type": "execute_result"
    }
   ],
   "source": [
    "query_mouse.subquery().c.keys()"
   ]
  },
  {
   "cell_type": "code",
   "execution_count": 16,
   "metadata": {},
   "outputs": [
    {
     "data": {
      "text/plain": [
       "[('PTL_DEFAULT', 13),\n",
       " ('PTL_ES_001', 10),\n",
       " ('PTL_RD_AT_000', 541),\n",
       " ('PTL_RD_ES_001', 12282),\n",
       " ('PTL_RD_ES_002', 120),\n",
       " ('PTL_RD_ES_006', 1001),\n",
       " ('PTL_RD_ES_007', 1056),\n",
       " ('PTL_RD_ES_009', 934),\n",
       " ('PTL_RD_ES_010', 891),\n",
       " ('PTL_RD_ES_011', 12)]"
      ]
     },
     "execution_count": 16,
     "metadata": {},
     "output_type": "execute_result"
    }
   ],
   "source": [
    "# SELECT ix_device_sn, COUNT(*) AS mouse_count\n",
    "# FROM bbf_inf_rep.MouseGesturePackage\n",
    "# WHERE ix_data_dtm>='2020-01-01 00:00:00'\n",
    "# GROUP BY ix_device_sn;\n",
    "\n",
    "mouse = mouse_gesture_package\n",
    "query_mouse = session.query(mouse.columns.ix_device_sn, db.func.count(mouse.columns).label('mouse_count')) \\\n",
    "                     .filter(mouse.columns.ix_data_dtm >= start_date) \\\n",
    "                     .group_by(mouse.columns.ix_device_sn)\n",
    "query_mouse.all()"
   ]
  },
  {
   "cell_type": "code",
   "execution_count": 17,
   "metadata": {},
   "outputs": [
    {
     "data": {
      "text/plain": [
       "['pk_mouse_gesture_package_id',\n",
       " 'ix_device_sn',\n",
       " 'service_sn',\n",
       " 'ix_source_sn',\n",
       " 'ix_data_dtm',\n",
       " 'gesture_start_dtm',\n",
       " 'gesture_end_dtm',\n",
       " 'event_count_int',\n",
       " 'gesture_distance_dbl',\n",
       " 'gesture_speed_dbl',\n",
       " 'gesture_deviation_dbl',\n",
       " 'create_dtm']"
      ]
     },
     "execution_count": 17,
     "metadata": {},
     "output_type": "execute_result"
    }
   ],
   "source": [
    "mouse.columns.keys()"
   ]
  },
  {
   "cell_type": "code",
   "execution_count": 18,
   "metadata": {},
   "outputs": [
    {
     "data": {
      "text/plain": [
       "(1,\n",
       " 'PTL_RD_ES_001',\n",
       " 'None@DataDock',\n",
       " 'None@DataDock',\n",
       " datetime.datetime(2020, 1, 27, 12, 14, 14, 732653),\n",
       " datetime.datetime(2020, 1, 27, 12, 14, 13, 469000),\n",
       " datetime.datetime(2020, 1, 27, 12, 14, 14, 359000),\n",
       " 60,\n",
       " Decimal('772.11'),\n",
       " Decimal('0.87'),\n",
       " Decimal('104.38'),\n",
       " datetime.datetime(2020, 1, 27, 12, 14, 14))"
      ]
     },
     "execution_count": 18,
     "metadata": {},
     "output_type": "execute_result"
    }
   ],
   "source": [
    "session.query(mouse).first()"
   ]
  },
  {
   "cell_type": "code",
   "execution_count": 125,
   "metadata": {},
   "outputs": [],
   "source": [
    "lp = LightingPackage\n",
    "lastone = db.func.max(lp.id).label('lastone')\n",
    "last_light_package = session.query(lp.device, lastone) \\\n",
    "                            .group_by(lp.device)\n",
    "\n",
    "sq = last_light_package.subquery()\n",
    "# last know operating mode per PTL-device\n",
    "query_mode = session.query(lp.device.label('device'), lp.timestamp.label('timestamp'), lp.mode.label('mode')) \\\n",
    "                         .join(sq, sq.columns.lastone == lp.id) \\\n",
    "                         .group_by(lp.device)\n",
    "\n",
    "query_info = session.query(DeviceInfo.device,\n",
    "                           DeviceInfo.mode,\n",
    "                           DeviceInfo.last_update)"
   ]
  },
  {
   "cell_type": "code",
   "execution_count": 133,
   "metadata": {},
   "outputs": [],
   "source": [
    "sq_mode = query_mode.subquery()\n",
    "sq_mouse = query_mouse.subquery()\n",
    "sq_light = query_light.subquery()\n",
    "\n",
    "since = db.func.timediff(db.func.now(), sq_mode.c.timestamp).label('since')\n",
    "\n",
    "query = query_info.outerjoin(sq_mode, DeviceInfo.device == sq_mode.c.device) \\\n",
    "                  .outerjoin(sq_mouse, DeviceInfo.device == sq_mouse.c.device) \\\n",
    "                  .outerjoin(sq_light, DeviceInfo.device == sq_light.c.device) \\\n",
    "                  .add_columns(sq_mode.c.mode, sq_mouse.c.mouse_count, sq_light.columns.light_count, since)"
   ]
  },
  {
   "cell_type": "code",
   "execution_count": 137,
   "metadata": {},
   "outputs": [
    {
     "data": {
      "text/plain": [
       "['device',\n",
       " 'mode',\n",
       " 'last_update',\n",
       " 'mode',\n",
       " 'mouse_count',\n",
       " 'light_count',\n",
       " 'since']"
      ]
     },
     "execution_count": 137,
     "metadata": {},
     "output_type": "execute_result"
    }
   ],
   "source": [
    "query.first().keys()"
   ]
  },
  {
   "cell_type": "code",
   "execution_count": 138,
   "metadata": {},
   "outputs": [],
   "source": [
    "db.Column?"
   ]
  },
  {
   "cell_type": "code",
   "execution_count": 27,
   "metadata": {},
   "outputs": [
    {
     "ename": "AttributeError",
     "evalue": "ix_data_dtm",
     "output_type": "error",
     "traceback": [
      "\u001b[0;31m---------------------------------------------------------------------------\u001b[0m",
      "\u001b[0;31mKeyError\u001b[0m                                  Traceback (most recent call last)",
      "\u001b[0;32m/home/huss/.local/lib/python3.6/site-packages/sqlalchemy/util/_collections.py\u001b[0m in \u001b[0;36m__getattr__\u001b[0;34m(self, key)\u001b[0m\n\u001b[1;32m    209\u001b[0m         \u001b[0;32mtry\u001b[0m\u001b[0;34m:\u001b[0m\u001b[0;34m\u001b[0m\u001b[0;34m\u001b[0m\u001b[0m\n\u001b[0;32m--> 210\u001b[0;31m             \u001b[0;32mreturn\u001b[0m \u001b[0mself\u001b[0m\u001b[0;34m.\u001b[0m\u001b[0m_data\u001b[0m\u001b[0;34m[\u001b[0m\u001b[0mkey\u001b[0m\u001b[0;34m]\u001b[0m\u001b[0;34m\u001b[0m\u001b[0;34m\u001b[0m\u001b[0m\n\u001b[0m\u001b[1;32m    211\u001b[0m         \u001b[0;32mexcept\u001b[0m \u001b[0mKeyError\u001b[0m\u001b[0;34m:\u001b[0m\u001b[0;34m\u001b[0m\u001b[0;34m\u001b[0m\u001b[0m\n",
      "\u001b[0;31mKeyError\u001b[0m: 'ix_data_dtm'",
      "\nDuring handling of the above exception, another exception occurred:\n",
      "\u001b[0;31mAttributeError\u001b[0m                            Traceback (most recent call last)",
      "\u001b[0;32m<ipython-input-27-0d8596e5d913>\u001b[0m in \u001b[0;36m<module>\u001b[0;34m()\u001b[0m\n\u001b[1;32m     10\u001b[0m \u001b[0mdevice_sn_light\u001b[0m \u001b[0;34m=\u001b[0m \u001b[0msq_light\u001b[0m\u001b[0;34m.\u001b[0m\u001b[0mcolumns\u001b[0m\u001b[0;34m.\u001b[0m\u001b[0mix_device_sn\u001b[0m\u001b[0;34m\u001b[0m\u001b[0;34m\u001b[0m\u001b[0m\n\u001b[1;32m     11\u001b[0m \u001b[0;34m\u001b[0m\u001b[0m\n\u001b[0;32m---> 12\u001b[0;31m \u001b[0mquery\u001b[0m \u001b[0;34m=\u001b[0m \u001b[0mquery_info\u001b[0m\u001b[0;34m.\u001b[0m\u001b[0mouterjoin\u001b[0m\u001b[0;34m(\u001b[0m\u001b[0msq_mode\u001b[0m\u001b[0;34m,\u001b[0m \u001b[0mdevice_sn_info\u001b[0m \u001b[0;34m==\u001b[0m \u001b[0mdevice_sn_mode\u001b[0m\u001b[0;34m)\u001b[0m                   \u001b[0;34m.\u001b[0m\u001b[0madd_column\u001b[0m\u001b[0;34m(\u001b[0m\u001b[0msq_mode\u001b[0m\u001b[0;34m.\u001b[0m\u001b[0mcolumns\u001b[0m\u001b[0;34m.\u001b[0m\u001b[0mix_mode_ind\u001b[0m\u001b[0;34m)\u001b[0m                   \u001b[0;34m.\u001b[0m\u001b[0mouterjoin\u001b[0m\u001b[0;34m(\u001b[0m\u001b[0msq_mouse\u001b[0m\u001b[0;34m,\u001b[0m \u001b[0mdevice_sn_info\u001b[0m \u001b[0;34m==\u001b[0m \u001b[0mdevice_sn_mouse\u001b[0m\u001b[0;34m)\u001b[0m                   \u001b[0;34m.\u001b[0m\u001b[0madd_column\u001b[0m\u001b[0;34m(\u001b[0m\u001b[0msq_mouse\u001b[0m\u001b[0;34m.\u001b[0m\u001b[0mcolumns\u001b[0m\u001b[0;34m.\u001b[0m\u001b[0mmouse_count\u001b[0m\u001b[0;34m)\u001b[0m                   \u001b[0;34m.\u001b[0m\u001b[0mouterjoin\u001b[0m\u001b[0;34m(\u001b[0m\u001b[0msq_light\u001b[0m\u001b[0;34m,\u001b[0m \u001b[0mdevice_sn_info\u001b[0m \u001b[0;34m==\u001b[0m \u001b[0mdevice_sn_light\u001b[0m\u001b[0;34m)\u001b[0m                   \u001b[0;34m.\u001b[0m\u001b[0madd_column\u001b[0m\u001b[0;34m(\u001b[0m\u001b[0msq_light\u001b[0m\u001b[0;34m.\u001b[0m\u001b[0mcolumns\u001b[0m\u001b[0;34m.\u001b[0m\u001b[0mlight_count\u001b[0m\u001b[0;34m)\u001b[0m                   \u001b[0;34m.\u001b[0m\u001b[0madd_column\u001b[0m\u001b[0;34m(\u001b[0m\u001b[0mdb\u001b[0m\u001b[0;34m.\u001b[0m\u001b[0mfunc\u001b[0m\u001b[0;34m.\u001b[0m\u001b[0mtimediff\u001b[0m\u001b[0;34m(\u001b[0m\u001b[0mdb\u001b[0m\u001b[0;34m.\u001b[0m\u001b[0mfunc\u001b[0m\u001b[0;34m.\u001b[0m\u001b[0mnow\u001b[0m\u001b[0;34m(\u001b[0m\u001b[0;34m)\u001b[0m\u001b[0;34m,\u001b[0m \u001b[0msq_mode\u001b[0m\u001b[0;34m.\u001b[0m\u001b[0mcolumns\u001b[0m\u001b[0;34m.\u001b[0m\u001b[0mix_data_dtm\u001b[0m\u001b[0;34m)\u001b[0m\u001b[0;34m.\u001b[0m\u001b[0mlabel\u001b[0m\u001b[0;34m(\u001b[0m\u001b[0;34m'since'\u001b[0m\u001b[0;34m)\u001b[0m\u001b[0;34m)\u001b[0m\u001b[0;34m\u001b[0m\u001b[0;34m\u001b[0m\u001b[0m\n\u001b[0m",
      "\u001b[0;32m/home/huss/.local/lib/python3.6/site-packages/sqlalchemy/util/_collections.py\u001b[0m in \u001b[0;36m__getattr__\u001b[0;34m(self, key)\u001b[0m\n\u001b[1;32m    210\u001b[0m             \u001b[0;32mreturn\u001b[0m \u001b[0mself\u001b[0m\u001b[0;34m.\u001b[0m\u001b[0m_data\u001b[0m\u001b[0;34m[\u001b[0m\u001b[0mkey\u001b[0m\u001b[0;34m]\u001b[0m\u001b[0;34m\u001b[0m\u001b[0;34m\u001b[0m\u001b[0m\n\u001b[1;32m    211\u001b[0m         \u001b[0;32mexcept\u001b[0m \u001b[0mKeyError\u001b[0m\u001b[0;34m:\u001b[0m\u001b[0;34m\u001b[0m\u001b[0;34m\u001b[0m\u001b[0m\n\u001b[0;32m--> 212\u001b[0;31m             \u001b[0;32mraise\u001b[0m \u001b[0mAttributeError\u001b[0m\u001b[0;34m(\u001b[0m\u001b[0mkey\u001b[0m\u001b[0;34m)\u001b[0m\u001b[0;34m\u001b[0m\u001b[0;34m\u001b[0m\u001b[0m\n\u001b[0m\u001b[1;32m    213\u001b[0m \u001b[0;34m\u001b[0m\u001b[0m\n\u001b[1;32m    214\u001b[0m     \u001b[0;32mdef\u001b[0m \u001b[0m__contains__\u001b[0m\u001b[0;34m(\u001b[0m\u001b[0mself\u001b[0m\u001b[0;34m,\u001b[0m \u001b[0mkey\u001b[0m\u001b[0;34m)\u001b[0m\u001b[0;34m:\u001b[0m\u001b[0;34m\u001b[0m\u001b[0;34m\u001b[0m\u001b[0m\n",
      "\u001b[0;31mAttributeError\u001b[0m: ix_data_dtm"
     ]
    }
   ],
   "source": [
    "device_sn_info = device_info.columns.uk_device_sn\n",
    "\n",
    "sq_mode = query_mode.subquery()\n",
    "device_sn_mode = sq_mode.columns.ix_device_sn\n",
    "\n",
    "sq_mouse = query_mouse.subquery()\n",
    "device_sn_mouse = sq_mouse.columns.ix_device_sn\n",
    "\n",
    "sq_light = query_light.subquery()\n",
    "device_sn_light = sq_light.columns.ix_device_sn\n",
    "\n",
    "query = query_info.outerjoin(sq_mode, device_sn_info == device_sn_mode) \\\n",
    "                  .add_column(sq_mode.columns.ix_mode_ind) \\\n",
    "                  .outerjoin(sq_mouse, device_sn_info == device_sn_mouse) \\\n",
    "                  .add_column(sq_mouse.columns.mouse_count) \\\n",
    "                  .outerjoin(sq_light, device_sn_info == device_sn_light) \\\n",
    "                  .add_column(sq_light.columns.light_count) \\\n",
    "                  .add_column(db.func.timediff(db.func.now(), sq_mode.columns.ix_data_dtm).label('since'))"
   ]
  },
  {
   "cell_type": "code",
   "execution_count": 33,
   "metadata": {},
   "outputs": [
    {
     "data": {
      "text/plain": [
       "25"
      ]
     },
     "execution_count": 33,
     "metadata": {},
     "output_type": "execute_result"
    }
   ],
   "source": [
    "len(query.all())"
   ]
  },
  {
   "cell_type": "code",
   "execution_count": 211,
   "metadata": {},
   "outputs": [
    {
     "data": {
      "text/plain": [
       "['uk_device_sn',\n",
       " 'device_mode_ind',\n",
       " 'last_update_dtm',\n",
       " 'ix_mode_ind',\n",
       " 'mouse_count',\n",
       " 'light_count',\n",
       " 'ix_data_dtm']"
      ]
     },
     "execution_count": 211,
     "metadata": {},
     "output_type": "execute_result"
    }
   ],
   "source": [
    "row = query.first()\n",
    "row.keys()"
   ]
  },
  {
   "cell_type": "code",
   "execution_count": 218,
   "metadata": {},
   "outputs": [
    {
     "data": {
      "text/plain": [
       "('PTL_RD_ES_001',\n",
       " 'FULL',\n",
       " datetime.datetime(2020, 2, 6, 12, 11, 2),\n",
       " 'AUTO',\n",
       " 10569,\n",
       " 57913,\n",
       " datetime.datetime(2020, 2, 6, 12, 41, 29, 974477))"
      ]
     },
     "execution_count": 218,
     "metadata": {},
     "output_type": "execute_result"
    }
   ],
   "source": [
    "query.first()"
   ]
  },
  {
   "cell_type": "code",
   "execution_count": 242,
   "metadata": {},
   "outputs": [
    {
     "data": {
      "text/plain": [
       "(datetime.timedelta(23, 14746, 647012))"
      ]
     },
     "execution_count": 242,
     "metadata": {},
     "output_type": "execute_result"
    }
   ],
   "source": [
    "row = session.query(db.func.timediff(db.func.now(), lc.ix_data_dtm).label('last')).first()\n",
    "row"
   ]
  },
  {
   "cell_type": "code",
   "execution_count": 241,
   "metadata": {},
   "outputs": [
    {
     "data": {
      "text/plain": [
       "datetime.timedelta(23, 14728, 647012)"
      ]
     },
     "execution_count": 241,
     "metadata": {},
     "output_type": "execute_result"
    }
   ],
   "source": [
    "row.last"
   ]
  },
  {
   "cell_type": "code",
   "execution_count": 230,
   "metadata": {},
   "outputs": [
    {
     "data": {
      "text/plain": [
       "datetime.timedelta(23, 14329, 647012)"
      ]
     },
     "execution_count": 230,
     "metadata": {},
     "output_type": "execute_result"
    }
   ],
   "source": [
    "row.now - row.ix_data_dtm"
   ]
  },
  {
   "cell_type": "code",
   "execution_count": null,
   "metadata": {},
   "outputs": [],
   "source": [
    "row = session.query(db.func.now().label('now'), lc.ix_data_dtm).first()\n",
    "row"
   ]
  },
  {
   "cell_type": "code",
   "execution_count": 232,
   "metadata": {},
   "outputs": [],
   "source": [
    "db.func.datediff?"
   ]
  },
  {
   "cell_type": "code",
   "execution_count": 28,
   "metadata": {},
   "outputs": [],
   "source": [
    "device_sn_info = device_info.columns.uk_device_sn\n",
    "\n",
    "sq_mode = query_mode.subquery()\n",
    "device_sn_mode = sq_mode.columns.ix_device_sn\n",
    "\n",
    "query = query_info.outerjoin(sq_mode, device_sn_info == device_sn_mode) \\\n",
    "                  .add_column(sq_mode.columns.ix_mode_ind)"
   ]
  },
  {
   "cell_type": "code",
   "execution_count": 29,
   "metadata": {},
   "outputs": [
    {
     "data": {
      "text/plain": [
       "25"
      ]
     },
     "execution_count": 29,
     "metadata": {},
     "output_type": "execute_result"
    }
   ],
   "source": [
    "len(query.all())"
   ]
  },
  {
   "cell_type": "code",
   "execution_count": 39,
   "metadata": {},
   "outputs": [],
   "source": [
    "from datetime import datetime, timedelta\n",
    "\n",
    "td = timedelta(days=7, minutes=6, hours=8)"
   ]
  },
  {
   "cell_type": "code",
   "execution_count": 40,
   "metadata": {},
   "outputs": [
    {
     "data": {
      "text/plain": [
       "'7 days, 8:06:00'"
      ]
     },
     "execution_count": 40,
     "metadata": {},
     "output_type": "execute_result"
    }
   ],
   "source": [
    "str(td)"
   ]
  },
  {
   "cell_type": "code",
   "execution_count": 41,
   "metadata": {},
   "outputs": [],
   "source": [
    "import humanfriendly"
   ]
  },
  {
   "cell_type": "code",
   "execution_count": 44,
   "metadata": {},
   "outputs": [
    {
     "data": {
      "text/plain": [
       "'1 week and 8 hours'"
      ]
     },
     "execution_count": 44,
     "metadata": {},
     "output_type": "execute_result"
    }
   ],
   "source": [
    "humanfriendly.format_timespan(td, max_units=2)"
   ]
  },
  {
   "cell_type": "code",
   "execution_count": 43,
   "metadata": {},
   "outputs": [],
   "source": [
    "humanfriendly.format_timespan?"
   ]
  },
  {
   "cell_type": "code",
   "execution_count": 46,
   "metadata": {},
   "outputs": [],
   "source": [
    "humanfriendly.format?"
   ]
  },
  {
   "cell_type": "code",
   "execution_count": 47,
   "metadata": {},
   "outputs": [],
   "source": [
    "humanfriendly.format_number?"
   ]
  },
  {
   "cell_type": "code",
   "execution_count": 50,
   "metadata": {},
   "outputs": [
    {
     "data": {
      "text/plain": [
       "29160"
      ]
     },
     "execution_count": 50,
     "metadata": {},
     "output_type": "execute_result"
    }
   ],
   "source": [
    "td.seconds"
   ]
  },
  {
   "cell_type": "code",
   "execution_count": 62,
   "metadata": {},
   "outputs": [
    {
     "data": {
      "text/plain": [
       "[('PTL_DEFAULT',\n",
       "  datetime.datetime(2020, 2, 5, 8, 44, 39, 151592),\n",
       "  Decimal('21.08')),\n",
       " ('PTL_ES_001',\n",
       "  datetime.datetime(2020, 2, 3, 14, 25, 58, 154166),\n",
       "  Decimal('22.81')),\n",
       " ('PTL_RD_AT_000',\n",
       "  datetime.datetime(2020, 2, 6, 16, 52, 2, 501290),\n",
       "  Decimal('22.89')),\n",
       " ('PTL_RD_ES_001',\n",
       "  datetime.datetime(2020, 2, 6, 16, 52, 6, 323077),\n",
       "  Decimal('21.27')),\n",
       " ('PTL_RD_ES_002',\n",
       "  datetime.datetime(2020, 2, 3, 15, 23, 18, 473620),\n",
       "  Decimal('22.84')),\n",
       " ('PTL_RD_ES_003',\n",
       "  datetime.datetime(2020, 2, 5, 8, 57, 55, 800992),\n",
       "  Decimal('25.85')),\n",
       " ('PTL_RD_ES_004',\n",
       "  datetime.datetime(2020, 2, 6, 16, 52, 12, 872322),\n",
       "  Decimal('27.84')),\n",
       " ('PTL_RD_ES_006',\n",
       "  datetime.datetime(2020, 2, 6, 15, 56, 11, 215662),\n",
       "  Decimal('29.05')),\n",
       " ('PTL_RD_ES_007',\n",
       "  datetime.datetime(2020, 2, 6, 16, 10, 26, 588145),\n",
       "  Decimal('29.06')),\n",
       " ('PTL_RD_ES_009',\n",
       "  datetime.datetime(2020, 2, 6, 15, 57, 48, 464371),\n",
       "  Decimal('29.07')),\n",
       " ('PTL_RD_ES_010',\n",
       "  datetime.datetime(2020, 2, 6, 16, 2, 31, 635710),\n",
       "  Decimal('28.08')),\n",
       " ('PTL_RD_ES_011',\n",
       "  datetime.datetime(2020, 2, 6, 15, 53, 46, 507809),\n",
       "  Decimal('28.91')),\n",
       " ('PTL_RD_ES_012',\n",
       "  datetime.datetime(2020, 2, 6, 16, 7, 59, 556690),\n",
       "  Decimal('28.58'))]"
      ]
     },
     "execution_count": 62,
     "metadata": {},
     "output_type": "execute_result"
    }
   ],
   "source": [
    "tp = temperatur_package.columns\n",
    "session.query(tp.ix_device_sn, db.func.max(tp.ix_data_dtm), tp.temperature_dbl) \\\n",
    "       .group_by(tp.ix_device_sn).all()"
   ]
  },
  {
   "cell_type": "code",
   "execution_count": 55,
   "metadata": {},
   "outputs": [
    {
     "data": {
      "text/plain": [
       "['pk_temperature_package_id',\n",
       " 'ix_device_sn',\n",
       " 'service_sn',\n",
       " 'ix_source_sn',\n",
       " 'ix_data_dtm',\n",
       " 'temperature_dbl',\n",
       " 'unit_sn',\n",
       " 'create_dtm']"
      ]
     },
     "execution_count": 55,
     "metadata": {},
     "output_type": "execute_result"
    }
   ],
   "source": [
    "tp.keys()"
   ]
  },
  {
   "cell_type": "code",
   "execution_count": 56,
   "metadata": {},
   "outputs": [
    {
     "data": {
      "text/plain": [
       "(1,\n",
       " 'PTL_RD_ES_001',\n",
       " 'None@PulseSense',\n",
       " 'environment@BME680',\n",
       " datetime.datetime(2020, 1, 14, 9, 52, 51, 496055),\n",
       " Decimal('21.27'),\n",
       " '°C',\n",
       " datetime.datetime(2020, 1, 14, 9, 52, 51))"
      ]
     },
     "execution_count": 56,
     "metadata": {},
     "output_type": "execute_result"
    }
   ],
   "source": [
    "session.query(temperatur_package).first()"
   ]
  },
  {
   "cell_type": "code",
   "execution_count": 21,
   "metadata": {},
   "outputs": [],
   "source": [
    "class TemperaturePackage(Base):\n",
    "    __tablename__ = 'TemperaturePackage'\n",
    "    __table_args__ = dict(autoload=True)\n",
    "\n",
    "    id = db.Column('pk_temperature_package_id', db.Integer, key='id', primary_key=True)\n",
    "    device = db.Column('ix_device_sn', key='device')\n",
    "    timestamp = db.Column('create_dtm', key='timestamp')\n",
    "    temperature = db.Column('temperature_dbl', key='temperature')\n",
    "    unit = db.Column('unit_sn', key='unit')"
   ]
  },
  {
   "cell_type": "code",
   "execution_count": 22,
   "metadata": {},
   "outputs": [],
   "source": [
    "query_device = session.query(DeviceInfo.device)"
   ]
  },
  {
   "cell_type": "code",
   "execution_count": 36,
   "metadata": {},
   "outputs": [],
   "source": [
    "tp = TemperaturePackage\n",
    "sq_temperature = session.query(tp.device, db.func.max(tp.timestamp), tp.temperature, tp.unit) \\\n",
    "                        .group_by(tp.device).subquery()"
   ]
  },
  {
   "cell_type": "code",
   "execution_count": 38,
   "metadata": {},
   "outputs": [
    {
     "data": {
      "text/plain": [
       "[('PTL_LT_AT_001', None, None, 'PTL_LT_AT_001'),\n",
       " ('PTL_LT_AT_002', None, None, 'PTL_LT_AT_002'),\n",
       " ('PTL_LT_AT_003', None, None, 'PTL_LT_AT_003'),\n",
       " ('PTL_LT_AT_004', None, None, 'PTL_LT_AT_004'),\n",
       " ('PTL_RD_AT_000', 22.89, '°C', 'PTL_RD_AT_000'),\n",
       " ('PTL_RD_AT_001', None, None, 'PTL_RD_AT_001'),\n",
       " ('PTL_RD_AT_002', None, None, 'PTL_RD_AT_002'),\n",
       " ('PTL_RD_AT_003', None, None, 'PTL_RD_AT_003'),\n",
       " ('PTL_RD_AT_004', None, None, 'PTL_RD_AT_004'),\n",
       " ('PTL_RD_DE_001', None, None, 'PTL_RD_DE_001'),\n",
       " ('PTL_RD_DE_002', None, None, 'PTL_RD_DE_002'),\n",
       " ('PTL_RD_DE_003', None, None, 'PTL_RD_DE_003'),\n",
       " ('PTL_RD_DE_004', None, None, 'PTL_RD_DE_004'),\n",
       " ('PTL_RD_ES_001', 21.27, '°C', 'PTL_RD_ES_001'),\n",
       " ('PTL_RD_ES_002', 22.84, '°C', 'PTL_RD_ES_002'),\n",
       " ('PTL_RD_ES_003', 25.85, '°C', 'PTL_RD_ES_003'),\n",
       " ('PTL_RD_ES_004', 27.84, '°C', 'PTL_RD_ES_004'),\n",
       " ('PTL_RD_ES_005', None, None, 'PTL_RD_ES_005'),\n",
       " ('PTL_RD_ES_006', 29.05, '°C', 'PTL_RD_ES_006'),\n",
       " ('PTL_RD_ES_007', 29.06, '°C', 'PTL_RD_ES_007'),\n",
       " ('PTL_RD_ES_008', None, None, 'PTL_RD_ES_008'),\n",
       " ('PTL_RD_ES_009', 29.07, '°C', 'PTL_RD_ES_009'),\n",
       " ('PTL_RD_ES_010', 28.08, '°C', 'PTL_RD_ES_010'),\n",
       " ('PTL_RD_ES_011', 28.91, '°C', 'PTL_RD_ES_011'),\n",
       " ('PTL_RD_ES_012', 28.58, '°C', 'PTL_RD_ES_012')]"
      ]
     },
     "execution_count": 38,
     "metadata": {},
     "output_type": "execute_result"
    }
   ],
   "source": [
    "query_device.outerjoin(sq_temperature, DeviceInfo.device == sq_temperature.c.device) \\\n",
    "            .add_columns(sq_temperature.c.temperature, sq_temperature.c.unit) \\\n",
    "            .add_column(DeviceInfo.device).all()"
   ]
  },
  {
   "cell_type": "code",
   "execution_count": 31,
   "metadata": {},
   "outputs": [
    {
     "data": {
      "text/plain": [
       "['device', 'temperature', 'unit']"
      ]
     },
     "execution_count": 31,
     "metadata": {},
     "output_type": "execute_result"
    }
   ],
   "source": [
    "sq_temperature.first().keys()"
   ]
  },
  {
   "cell_type": "code",
   "execution_count": 32,
   "metadata": {},
   "outputs": [],
   "source": [
    "sq_t = sq_temperature.subquery()"
   ]
  },
  {
   "cell_type": "code",
   "execution_count": 33,
   "metadata": {},
   "outputs": [
    {
     "data": {
      "text/plain": [
       "Column('ix_device_sn', NullType(), table=<%(140049386218720 anon)s>, key='device')"
      ]
     },
     "execution_count": 33,
     "metadata": {},
     "output_type": "execute_result"
    }
   ],
   "source": [
    "sq_t.c.device"
   ]
  },
  {
   "cell_type": "code",
   "execution_count": 34,
   "metadata": {},
   "outputs": [
    {
     "data": {
      "text/plain": [
       "<sqlalchemy.orm.attributes.InstrumentedAttribute at 0x7f5fc9f95200>"
      ]
     },
     "execution_count": 34,
     "metadata": {},
     "output_type": "execute_result"
    }
   ],
   "source": [
    "DeviceInfo.device"
   ]
  },
  {
   "cell_type": "code",
   "execution_count": null,
   "metadata": {},
   "outputs": [],
   "source": []
  }
 ],
 "metadata": {
  "kernelspec": {
   "display_name": "Python 3",
   "language": "python",
   "name": "python3"
  },
  "language_info": {
   "codemirror_mode": {
    "name": "ipython",
    "version": 3
   },
   "file_extension": ".py",
   "mimetype": "text/x-python",
   "name": "python",
   "nbconvert_exporter": "python",
   "pygments_lexer": "ipython3",
   "version": "3.6.9"
  }
 },
 "nbformat": 4,
 "nbformat_minor": 2
}

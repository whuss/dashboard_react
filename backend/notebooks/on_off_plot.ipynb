{
 "cells": [
  {
   "cell_type": "code",
   "execution_count": 1,
   "metadata": {},
   "outputs": [],
   "source": [
    "from app import Errors\n",
    "import itertools\n",
    "import pandas as pd\n",
    "import os\n",
    "from math import pi\n",
    "from datetime import datetime, timedelta"
   ]
  },
  {
   "cell_type": "code",
   "execution_count": 2,
   "metadata": {},
   "outputs": [
    {
     "data": {
      "text/html": [
       "\n",
       "    <div class=\"bk-root\">\n",
       "        <a href=\"https://bokeh.org\" target=\"_blank\" class=\"bk-logo bk-logo-small bk-logo-notebook\"></a>\n",
       "        <span id=\"1001\">Loading BokehJS ...</span>\n",
       "    </div>"
      ]
     },
     "metadata": {},
     "output_type": "display_data"
    },
    {
     "data": {
      "application/javascript": [
       "\n",
       "(function(root) {\n",
       "  function now() {\n",
       "    return new Date();\n",
       "  }\n",
       "\n",
       "  var force = true;\n",
       "\n",
       "  if (typeof root._bokeh_onload_callbacks === \"undefined\" || force === true) {\n",
       "    root._bokeh_onload_callbacks = [];\n",
       "    root._bokeh_is_loading = undefined;\n",
       "  }\n",
       "\n",
       "  var JS_MIME_TYPE = 'application/javascript';\n",
       "  var HTML_MIME_TYPE = 'text/html';\n",
       "  var EXEC_MIME_TYPE = 'application/vnd.bokehjs_exec.v0+json';\n",
       "  var CLASS_NAME = 'output_bokeh rendered_html';\n",
       "\n",
       "  /**\n",
       "   * Render data to the DOM node\n",
       "   */\n",
       "  function render(props, node) {\n",
       "    var script = document.createElement(\"script\");\n",
       "    node.appendChild(script);\n",
       "  }\n",
       "\n",
       "  /**\n",
       "   * Handle when an output is cleared or removed\n",
       "   */\n",
       "  function handleClearOutput(event, handle) {\n",
       "    var cell = handle.cell;\n",
       "\n",
       "    var id = cell.output_area._bokeh_element_id;\n",
       "    var server_id = cell.output_area._bokeh_server_id;\n",
       "    // Clean up Bokeh references\n",
       "    if (id != null && id in Bokeh.index) {\n",
       "      Bokeh.index[id].model.document.clear();\n",
       "      delete Bokeh.index[id];\n",
       "    }\n",
       "\n",
       "    if (server_id !== undefined) {\n",
       "      // Clean up Bokeh references\n",
       "      var cmd = \"from bokeh.io.state import curstate; print(curstate().uuid_to_server['\" + server_id + \"'].get_sessions()[0].document.roots[0]._id)\";\n",
       "      cell.notebook.kernel.execute(cmd, {\n",
       "        iopub: {\n",
       "          output: function(msg) {\n",
       "            var id = msg.content.text.trim();\n",
       "            if (id in Bokeh.index) {\n",
       "              Bokeh.index[id].model.document.clear();\n",
       "              delete Bokeh.index[id];\n",
       "            }\n",
       "          }\n",
       "        }\n",
       "      });\n",
       "      // Destroy server and session\n",
       "      var cmd = \"import bokeh.io.notebook as ion; ion.destroy_server('\" + server_id + \"')\";\n",
       "      cell.notebook.kernel.execute(cmd);\n",
       "    }\n",
       "  }\n",
       "\n",
       "  /**\n",
       "   * Handle when a new output is added\n",
       "   */\n",
       "  function handleAddOutput(event, handle) {\n",
       "    var output_area = handle.output_area;\n",
       "    var output = handle.output;\n",
       "\n",
       "    // limit handleAddOutput to display_data with EXEC_MIME_TYPE content only\n",
       "    if ((output.output_type != \"display_data\") || (!output.data.hasOwnProperty(EXEC_MIME_TYPE))) {\n",
       "      return\n",
       "    }\n",
       "\n",
       "    var toinsert = output_area.element.find(\".\" + CLASS_NAME.split(' ')[0]);\n",
       "\n",
       "    if (output.metadata[EXEC_MIME_TYPE][\"id\"] !== undefined) {\n",
       "      toinsert[toinsert.length - 1].firstChild.textContent = output.data[JS_MIME_TYPE];\n",
       "      // store reference to embed id on output_area\n",
       "      output_area._bokeh_element_id = output.metadata[EXEC_MIME_TYPE][\"id\"];\n",
       "    }\n",
       "    if (output.metadata[EXEC_MIME_TYPE][\"server_id\"] !== undefined) {\n",
       "      var bk_div = document.createElement(\"div\");\n",
       "      bk_div.innerHTML = output.data[HTML_MIME_TYPE];\n",
       "      var script_attrs = bk_div.children[0].attributes;\n",
       "      for (var i = 0; i < script_attrs.length; i++) {\n",
       "        toinsert[toinsert.length - 1].firstChild.setAttribute(script_attrs[i].name, script_attrs[i].value);\n",
       "      }\n",
       "      // store reference to server id on output_area\n",
       "      output_area._bokeh_server_id = output.metadata[EXEC_MIME_TYPE][\"server_id\"];\n",
       "    }\n",
       "  }\n",
       "\n",
       "  function register_renderer(events, OutputArea) {\n",
       "\n",
       "    function append_mime(data, metadata, element) {\n",
       "      // create a DOM node to render to\n",
       "      var toinsert = this.create_output_subarea(\n",
       "        metadata,\n",
       "        CLASS_NAME,\n",
       "        EXEC_MIME_TYPE\n",
       "      );\n",
       "      this.keyboard_manager.register_events(toinsert);\n",
       "      // Render to node\n",
       "      var props = {data: data, metadata: metadata[EXEC_MIME_TYPE]};\n",
       "      render(props, toinsert[toinsert.length - 1]);\n",
       "      element.append(toinsert);\n",
       "      return toinsert\n",
       "    }\n",
       "\n",
       "    /* Handle when an output is cleared or removed */\n",
       "    events.on('clear_output.CodeCell', handleClearOutput);\n",
       "    events.on('delete.Cell', handleClearOutput);\n",
       "\n",
       "    /* Handle when a new output is added */\n",
       "    events.on('output_added.OutputArea', handleAddOutput);\n",
       "\n",
       "    /**\n",
       "     * Register the mime type and append_mime function with output_area\n",
       "     */\n",
       "    OutputArea.prototype.register_mime_type(EXEC_MIME_TYPE, append_mime, {\n",
       "      /* Is output safe? */\n",
       "      safe: true,\n",
       "      /* Index of renderer in `output_area.display_order` */\n",
       "      index: 0\n",
       "    });\n",
       "  }\n",
       "\n",
       "  // register the mime type if in Jupyter Notebook environment and previously unregistered\n",
       "  if (root.Jupyter !== undefined) {\n",
       "    var events = require('base/js/events');\n",
       "    var OutputArea = require('notebook/js/outputarea').OutputArea;\n",
       "\n",
       "    if (OutputArea.prototype.mime_types().indexOf(EXEC_MIME_TYPE) == -1) {\n",
       "      register_renderer(events, OutputArea);\n",
       "    }\n",
       "  }\n",
       "\n",
       "  \n",
       "  if (typeof (root._bokeh_timeout) === \"undefined\" || force === true) {\n",
       "    root._bokeh_timeout = Date.now() + 5000;\n",
       "    root._bokeh_failed_load = false;\n",
       "  }\n",
       "\n",
       "  var NB_LOAD_WARNING = {'data': {'text/html':\n",
       "     \"<div style='background-color: #fdd'>\\n\"+\n",
       "     \"<p>\\n\"+\n",
       "     \"BokehJS does not appear to have successfully loaded. If loading BokehJS from CDN, this \\n\"+\n",
       "     \"may be due to a slow or bad network connection. Possible fixes:\\n\"+\n",
       "     \"</p>\\n\"+\n",
       "     \"<ul>\\n\"+\n",
       "     \"<li>re-rerun `output_notebook()` to attempt to load from CDN again, or</li>\\n\"+\n",
       "     \"<li>use INLINE resources instead, as so:</li>\\n\"+\n",
       "     \"</ul>\\n\"+\n",
       "     \"<code>\\n\"+\n",
       "     \"from bokeh.resources import INLINE\\n\"+\n",
       "     \"output_notebook(resources=INLINE)\\n\"+\n",
       "     \"</code>\\n\"+\n",
       "     \"</div>\"}};\n",
       "\n",
       "  function display_loaded() {\n",
       "    var el = document.getElementById(\"1001\");\n",
       "    if (el != null) {\n",
       "      el.textContent = \"BokehJS is loading...\";\n",
       "    }\n",
       "    if (root.Bokeh !== undefined) {\n",
       "      if (el != null) {\n",
       "        el.textContent = \"BokehJS \" + root.Bokeh.version + \" successfully loaded.\";\n",
       "      }\n",
       "    } else if (Date.now() < root._bokeh_timeout) {\n",
       "      setTimeout(display_loaded, 100)\n",
       "    }\n",
       "  }\n",
       "\n",
       "\n",
       "  function run_callbacks() {\n",
       "    try {\n",
       "      root._bokeh_onload_callbacks.forEach(function(callback) {\n",
       "        if (callback != null)\n",
       "          callback();\n",
       "      });\n",
       "    } finally {\n",
       "      delete root._bokeh_onload_callbacks\n",
       "    }\n",
       "    console.debug(\"Bokeh: all callbacks have finished\");\n",
       "  }\n",
       "\n",
       "  function load_libs(css_urls, js_urls, callback) {\n",
       "    if (css_urls == null) css_urls = [];\n",
       "    if (js_urls == null) js_urls = [];\n",
       "\n",
       "    root._bokeh_onload_callbacks.push(callback);\n",
       "    if (root._bokeh_is_loading > 0) {\n",
       "      console.debug(\"Bokeh: BokehJS is being loaded, scheduling callback at\", now());\n",
       "      return null;\n",
       "    }\n",
       "    if (js_urls == null || js_urls.length === 0) {\n",
       "      run_callbacks();\n",
       "      return null;\n",
       "    }\n",
       "    console.debug(\"Bokeh: BokehJS not loaded, scheduling load and callback at\", now());\n",
       "    root._bokeh_is_loading = css_urls.length + js_urls.length;\n",
       "\n",
       "    function on_load() {\n",
       "      root._bokeh_is_loading--;\n",
       "      if (root._bokeh_is_loading === 0) {\n",
       "        console.debug(\"Bokeh: all BokehJS libraries/stylesheets loaded\");\n",
       "        run_callbacks()\n",
       "      }\n",
       "    }\n",
       "\n",
       "    function on_error() {\n",
       "      console.error(\"failed to load \" + url);\n",
       "    }\n",
       "\n",
       "    for (var i = 0; i < css_urls.length; i++) {\n",
       "      var url = css_urls[i];\n",
       "      const element = document.createElement(\"link\");\n",
       "      element.onload = on_load;\n",
       "      element.onerror = on_error;\n",
       "      element.rel = \"stylesheet\";\n",
       "      element.type = \"text/css\";\n",
       "      element.href = url;\n",
       "      console.debug(\"Bokeh: injecting link tag for BokehJS stylesheet: \", url);\n",
       "      document.body.appendChild(element);\n",
       "    }\n",
       "\n",
       "    for (var i = 0; i < js_urls.length; i++) {\n",
       "      var url = js_urls[i];\n",
       "      var element = document.createElement('script');\n",
       "      element.onload = on_load;\n",
       "      element.onerror = on_error;\n",
       "      element.async = false;\n",
       "      element.src = url;\n",
       "      console.debug(\"Bokeh: injecting script tag for BokehJS library: \", url);\n",
       "      document.head.appendChild(element);\n",
       "    }\n",
       "  };var element = document.getElementById(\"1001\");\n",
       "  if (element == null) {\n",
       "    console.error(\"Bokeh: ERROR: autoload.js configured with elementid '1001' but no matching script tag was found. \")\n",
       "    return false;\n",
       "  }\n",
       "\n",
       "  function inject_raw_css(css) {\n",
       "    const element = document.createElement(\"style\");\n",
       "    element.appendChild(document.createTextNode(css));\n",
       "    document.body.appendChild(element);\n",
       "  }\n",
       "\n",
       "  \n",
       "  var js_urls = [\"https://cdn.pydata.org/bokeh/release/bokeh-1.4.0.min.js\", \"https://cdn.pydata.org/bokeh/release/bokeh-widgets-1.4.0.min.js\", \"https://cdn.pydata.org/bokeh/release/bokeh-tables-1.4.0.min.js\", \"https://cdn.pydata.org/bokeh/release/bokeh-gl-1.4.0.min.js\"];\n",
       "  var css_urls = [];\n",
       "  \n",
       "\n",
       "  var inline_js = [\n",
       "    function(Bokeh) {\n",
       "      Bokeh.set_log_level(\"info\");\n",
       "    },\n",
       "    function(Bokeh) {\n",
       "    \n",
       "    \n",
       "    }\n",
       "  ];\n",
       "\n",
       "  function run_inline_js() {\n",
       "    \n",
       "    if (root.Bokeh !== undefined || force === true) {\n",
       "      \n",
       "    for (var i = 0; i < inline_js.length; i++) {\n",
       "      inline_js[i].call(root, root.Bokeh);\n",
       "    }\n",
       "    if (force === true) {\n",
       "        display_loaded();\n",
       "      }} else if (Date.now() < root._bokeh_timeout) {\n",
       "      setTimeout(run_inline_js, 100);\n",
       "    } else if (!root._bokeh_failed_load) {\n",
       "      console.log(\"Bokeh: BokehJS failed to load within specified timeout.\");\n",
       "      root._bokeh_failed_load = true;\n",
       "    } else if (force !== true) {\n",
       "      var cell = $(document.getElementById(\"1001\")).parents('.cell').data().cell;\n",
       "      cell.output_area.append_execute_result(NB_LOAD_WARNING)\n",
       "    }\n",
       "\n",
       "  }\n",
       "\n",
       "  if (root._bokeh_is_loading === 0) {\n",
       "    console.debug(\"Bokeh: BokehJS loaded, going straight to plotting\");\n",
       "    run_inline_js();\n",
       "  } else {\n",
       "    load_libs(css_urls, js_urls, function() {\n",
       "      console.debug(\"Bokeh: BokehJS plotting callback run at\", now());\n",
       "      run_inline_js();\n",
       "    });\n",
       "  }\n",
       "}(window));"
      ],
      "application/vnd.bokehjs_load.v0+json": "\n(function(root) {\n  function now() {\n    return new Date();\n  }\n\n  var force = true;\n\n  if (typeof root._bokeh_onload_callbacks === \"undefined\" || force === true) {\n    root._bokeh_onload_callbacks = [];\n    root._bokeh_is_loading = undefined;\n  }\n\n  \n\n  \n  if (typeof (root._bokeh_timeout) === \"undefined\" || force === true) {\n    root._bokeh_timeout = Date.now() + 5000;\n    root._bokeh_failed_load = false;\n  }\n\n  var NB_LOAD_WARNING = {'data': {'text/html':\n     \"<div style='background-color: #fdd'>\\n\"+\n     \"<p>\\n\"+\n     \"BokehJS does not appear to have successfully loaded. If loading BokehJS from CDN, this \\n\"+\n     \"may be due to a slow or bad network connection. Possible fixes:\\n\"+\n     \"</p>\\n\"+\n     \"<ul>\\n\"+\n     \"<li>re-rerun `output_notebook()` to attempt to load from CDN again, or</li>\\n\"+\n     \"<li>use INLINE resources instead, as so:</li>\\n\"+\n     \"</ul>\\n\"+\n     \"<code>\\n\"+\n     \"from bokeh.resources import INLINE\\n\"+\n     \"output_notebook(resources=INLINE)\\n\"+\n     \"</code>\\n\"+\n     \"</div>\"}};\n\n  function display_loaded() {\n    var el = document.getElementById(\"1001\");\n    if (el != null) {\n      el.textContent = \"BokehJS is loading...\";\n    }\n    if (root.Bokeh !== undefined) {\n      if (el != null) {\n        el.textContent = \"BokehJS \" + root.Bokeh.version + \" successfully loaded.\";\n      }\n    } else if (Date.now() < root._bokeh_timeout) {\n      setTimeout(display_loaded, 100)\n    }\n  }\n\n\n  function run_callbacks() {\n    try {\n      root._bokeh_onload_callbacks.forEach(function(callback) {\n        if (callback != null)\n          callback();\n      });\n    } finally {\n      delete root._bokeh_onload_callbacks\n    }\n    console.debug(\"Bokeh: all callbacks have finished\");\n  }\n\n  function load_libs(css_urls, js_urls, callback) {\n    if (css_urls == null) css_urls = [];\n    if (js_urls == null) js_urls = [];\n\n    root._bokeh_onload_callbacks.push(callback);\n    if (root._bokeh_is_loading > 0) {\n      console.debug(\"Bokeh: BokehJS is being loaded, scheduling callback at\", now());\n      return null;\n    }\n    if (js_urls == null || js_urls.length === 0) {\n      run_callbacks();\n      return null;\n    }\n    console.debug(\"Bokeh: BokehJS not loaded, scheduling load and callback at\", now());\n    root._bokeh_is_loading = css_urls.length + js_urls.length;\n\n    function on_load() {\n      root._bokeh_is_loading--;\n      if (root._bokeh_is_loading === 0) {\n        console.debug(\"Bokeh: all BokehJS libraries/stylesheets loaded\");\n        run_callbacks()\n      }\n    }\n\n    function on_error() {\n      console.error(\"failed to load \" + url);\n    }\n\n    for (var i = 0; i < css_urls.length; i++) {\n      var url = css_urls[i];\n      const element = document.createElement(\"link\");\n      element.onload = on_load;\n      element.onerror = on_error;\n      element.rel = \"stylesheet\";\n      element.type = \"text/css\";\n      element.href = url;\n      console.debug(\"Bokeh: injecting link tag for BokehJS stylesheet: \", url);\n      document.body.appendChild(element);\n    }\n\n    for (var i = 0; i < js_urls.length; i++) {\n      var url = js_urls[i];\n      var element = document.createElement('script');\n      element.onload = on_load;\n      element.onerror = on_error;\n      element.async = false;\n      element.src = url;\n      console.debug(\"Bokeh: injecting script tag for BokehJS library: \", url);\n      document.head.appendChild(element);\n    }\n  };var element = document.getElementById(\"1001\");\n  if (element == null) {\n    console.error(\"Bokeh: ERROR: autoload.js configured with elementid '1001' but no matching script tag was found. \")\n    return false;\n  }\n\n  function inject_raw_css(css) {\n    const element = document.createElement(\"style\");\n    element.appendChild(document.createTextNode(css));\n    document.body.appendChild(element);\n  }\n\n  \n  var js_urls = [\"https://cdn.pydata.org/bokeh/release/bokeh-1.4.0.min.js\", \"https://cdn.pydata.org/bokeh/release/bokeh-widgets-1.4.0.min.js\", \"https://cdn.pydata.org/bokeh/release/bokeh-tables-1.4.0.min.js\", \"https://cdn.pydata.org/bokeh/release/bokeh-gl-1.4.0.min.js\"];\n  var css_urls = [];\n  \n\n  var inline_js = [\n    function(Bokeh) {\n      Bokeh.set_log_level(\"info\");\n    },\n    function(Bokeh) {\n    \n    \n    }\n  ];\n\n  function run_inline_js() {\n    \n    if (root.Bokeh !== undefined || force === true) {\n      \n    for (var i = 0; i < inline_js.length; i++) {\n      inline_js[i].call(root, root.Bokeh);\n    }\n    if (force === true) {\n        display_loaded();\n      }} else if (Date.now() < root._bokeh_timeout) {\n      setTimeout(run_inline_js, 100);\n    } else if (!root._bokeh_failed_load) {\n      console.log(\"Bokeh: BokehJS failed to load within specified timeout.\");\n      root._bokeh_failed_load = true;\n    } else if (force !== true) {\n      var cell = $(document.getElementById(\"1001\")).parents('.cell').data().cell;\n      cell.output_area.append_execute_result(NB_LOAD_WARNING)\n    }\n\n  }\n\n  if (root._bokeh_is_loading === 0) {\n    console.debug(\"Bokeh: BokehJS loaded, going straight to plotting\");\n    run_inline_js();\n  } else {\n    load_libs(css_urls, js_urls, function() {\n      console.debug(\"Bokeh: BokehJS plotting callback run at\", now());\n      run_inline_js();\n    });\n  }\n}(window));"
     },
     "metadata": {},
     "output_type": "display_data"
    }
   ],
   "source": [
    "from bokeh.models import ColumnDataSource\n",
    "from bokeh.plotting import show, output_notebook, figure\n",
    "from bokeh.palettes import Category20c\n",
    "from bokeh import palettes\n",
    "from bokeh import layouts\n",
    "from bokeh.transform import cumsum\n",
    "output_notebook()"
   ]
  },
  {
   "cell_type": "markdown",
   "metadata": {},
   "source": [
    "# Compute time intervals where the ptl was online"
   ]
  },
  {
   "cell_type": "code",
   "execution_count": 3,
   "metadata": {},
   "outputs": [],
   "source": [
    "from app import Connectivity\n",
    "from datetime import datetime, timedelta\n",
    "from plots import plot_connection_times"
   ]
  },
  {
   "cell_type": "code",
   "execution_count": 4,
   "metadata": {},
   "outputs": [],
   "source": [
    "since = datetime.now() - timedelta(days=3)\n",
    "until = datetime.now()\n",
    "data = Connectivity.connection_times(since, until)"
   ]
  },
  {
   "cell_type": "code",
   "execution_count": 5,
   "metadata": {},
   "outputs": [
    {
     "data": {
      "text/html": [
       "\n",
       "\n",
       "\n",
       "\n",
       "\n",
       "\n",
       "  <div class=\"bk-root\" id=\"8ab74673-23ba-41f9-a0dc-85c2040adcbe\" data-root-id=\"1003\"></div>\n"
      ]
     },
     "metadata": {},
     "output_type": "display_data"
    },
    {
     "data": {
      "application/javascript": [
       "(function(root) {\n",
       "  function embed_document(root) {\n",
       "    \n",
       "  var docs_json = {\"05360f56-08a0-4e58-a915-394b2878e842\":{\"roots\":{\"references\":[{\"attributes\":{\"below\":[{\"id\":\"1012\",\"type\":\"DatetimeAxis\"}],\"center\":[{\"id\":\"1016\",\"type\":\"Grid\"},{\"id\":\"1021\",\"type\":\"Grid\"}],\"left\":[{\"id\":\"1017\",\"type\":\"LinearAxis\"}],\"plot_height\":50,\"plot_width\":800,\"renderers\":[{\"id\":\"1038\",\"type\":\"GlyphRenderer\"}],\"title\":{\"id\":\"1041\",\"type\":\"Title\"},\"toolbar\":{\"id\":\"1028\",\"type\":\"Toolbar\"},\"toolbar_location\":null,\"x_range\":{\"id\":\"1004\",\"type\":\"Range1d\"},\"x_scale\":{\"id\":\"1008\",\"type\":\"LinearScale\"},\"y_range\":{\"id\":\"1006\",\"type\":\"Range1d\"},\"y_scale\":{\"id\":\"1010\",\"type\":\"LinearScale\"}},\"id\":\"1003\",\"subtype\":\"Figure\",\"type\":\"Plot\"},{\"attributes\":{},\"id\":\"1025\",\"type\":\"SaveTool\"},{\"attributes\":{},\"id\":\"1060\",\"type\":\"Selection\"},{\"attributes\":{},\"id\":\"1061\",\"type\":\"UnionRenderers\"},{\"attributes\":{\"callback\":null,\"end\":0.25},\"id\":\"1006\",\"type\":\"Range1d\"},{\"attributes\":{\"source\":{\"id\":\"1002\",\"type\":\"ColumnDataSource\"}},\"id\":\"1039\",\"type\":\"CDSView\"},{\"attributes\":{},\"id\":\"1008\",\"type\":\"LinearScale\"},{\"attributes\":{\"text\":\"\"},\"id\":\"1041\",\"type\":\"Title\"},{\"attributes\":{},\"id\":\"1010\",\"type\":\"LinearScale\"},{\"attributes\":{\"callback\":null,\"end\":1584325666602.781,\"start\":1584066555695.5688},\"id\":\"1004\",\"type\":\"Range1d\"},{\"attributes\":{\"bottom_units\":\"screen\",\"fill_alpha\":{\"value\":0.5},\"fill_color\":{\"value\":\"lightgrey\"},\"left_units\":\"screen\",\"level\":\"overlay\",\"line_alpha\":{\"value\":1.0},\"line_color\":{\"value\":\"black\"},\"line_dash\":[4,4],\"line_width\":{\"value\":2},\"render_mode\":\"css\",\"right_units\":\"screen\",\"top_units\":\"screen\"},\"id\":\"1047\",\"type\":\"BoxAnnotation\"},{\"attributes\":{\"formatter\":{\"id\":\"1044\",\"type\":\"DatetimeTickFormatter\"},\"ticker\":{\"id\":\"1013\",\"type\":\"DatetimeTicker\"}},\"id\":\"1012\",\"type\":\"DatetimeAxis\"},{\"attributes\":{\"mantissas\":[1,2,5],\"max_interval\":500.0,\"num_minor_ticks\":0},\"id\":\"1048\",\"type\":\"AdaptiveTicker\"},{\"attributes\":{\"num_minor_ticks\":5,\"tickers\":[{\"id\":\"1048\",\"type\":\"AdaptiveTicker\"},{\"id\":\"1049\",\"type\":\"AdaptiveTicker\"},{\"id\":\"1050\",\"type\":\"AdaptiveTicker\"},{\"id\":\"1051\",\"type\":\"DaysTicker\"},{\"id\":\"1052\",\"type\":\"DaysTicker\"},{\"id\":\"1053\",\"type\":\"DaysTicker\"},{\"id\":\"1054\",\"type\":\"DaysTicker\"},{\"id\":\"1055\",\"type\":\"MonthsTicker\"},{\"id\":\"1056\",\"type\":\"MonthsTicker\"},{\"id\":\"1057\",\"type\":\"MonthsTicker\"},{\"id\":\"1058\",\"type\":\"MonthsTicker\"},{\"id\":\"1059\",\"type\":\"YearsTicker\"}]},\"id\":\"1013\",\"type\":\"DatetimeTicker\"},{\"attributes\":{\"ticker\":{\"id\":\"1013\",\"type\":\"DatetimeTicker\"}},\"id\":\"1016\",\"type\":\"Grid\"},{\"attributes\":{\"base\":60,\"mantissas\":[1,2,5,10,15,20,30],\"max_interval\":1800000.0,\"min_interval\":1000.0,\"num_minor_ticks\":0},\"id\":\"1049\",\"type\":\"AdaptiveTicker\"},{\"attributes\":{},\"id\":\"1044\",\"type\":\"DatetimeTickFormatter\"},{\"attributes\":{\"formatter\":{\"id\":\"1046\",\"type\":\"BasicTickFormatter\"},\"ticker\":{\"id\":\"1018\",\"type\":\"BasicTicker\"},\"visible\":false},\"id\":\"1017\",\"type\":\"LinearAxis\"},{\"attributes\":{\"base\":24,\"mantissas\":[1,2,4,6,8,12],\"max_interval\":43200000.0,\"min_interval\":3600000.0,\"num_minor_ticks\":0},\"id\":\"1050\",\"type\":\"AdaptiveTicker\"},{\"attributes\":{\"fill_color\":{\"field\":\"color\"},\"height\":{\"value\":0.25},\"left\":{\"field\":\"begin\"},\"line_color\":{\"field\":\"color\"},\"right\":{\"field\":\"end\"},\"y\":{\"value\":0.125}},\"id\":\"1036\",\"type\":\"HBar\"},{\"attributes\":{},\"id\":\"1018\",\"type\":\"BasicTicker\"},{\"attributes\":{\"days\":[1,2,3,4,5,6,7,8,9,10,11,12,13,14,15,16,17,18,19,20,21,22,23,24,25,26,27,28,29,30,31]},\"id\":\"1051\",\"type\":\"DaysTicker\"},{\"attributes\":{\"dimension\":1,\"ticker\":{\"id\":\"1018\",\"type\":\"BasicTicker\"}},\"id\":\"1021\",\"type\":\"Grid\"},{\"attributes\":{\"days\":[1,4,7,10,13,16,19,22,25,28]},\"id\":\"1052\",\"type\":\"DaysTicker\"},{\"attributes\":{\"active_drag\":\"auto\",\"active_inspect\":\"auto\",\"active_multi\":null,\"active_scroll\":\"auto\",\"active_tap\":\"auto\",\"logo\":null,\"tools\":[{\"id\":\"1022\",\"type\":\"PanTool\"},{\"id\":\"1023\",\"type\":\"WheelZoomTool\"},{\"id\":\"1024\",\"type\":\"BoxZoomTool\"},{\"id\":\"1025\",\"type\":\"SaveTool\"},{\"id\":\"1026\",\"type\":\"ResetTool\"},{\"id\":\"1027\",\"type\":\"HelpTool\"}]},\"id\":\"1028\",\"type\":\"Toolbar\"},{\"attributes\":{\"days\":[1,8,15,22]},\"id\":\"1053\",\"type\":\"DaysTicker\"},{\"attributes\":{\"days\":[1,15]},\"id\":\"1054\",\"type\":\"DaysTicker\"},{\"attributes\":{\"months\":[0,1,2,3,4,5,6,7,8,9,10,11]},\"id\":\"1055\",\"type\":\"MonthsTicker\"},{\"attributes\":{},\"id\":\"1022\",\"type\":\"PanTool\"},{\"attributes\":{\"months\":[0,2,4,6,8,10]},\"id\":\"1056\",\"type\":\"MonthsTicker\"},{\"attributes\":{},\"id\":\"1023\",\"type\":\"WheelZoomTool\"},{\"attributes\":{\"callback\":null,\"data\":{\"begin\":{\"__ndarray__\":\"G/nylhsNd0ItdGl8Pg13Qn1NgKI+DXdCkcGv+j4Nd0KRPbQuPw13QuU+nZRlDXdCHfgesWUNd0K6z3DZaA13Qh8rP/5oDXdCLRB8+LcNd0JKQhgVuA13QmRlPGIKDndCaGEWfQoOd0I=\",\"dtype\":\"float64\",\"shape\":[13]},\"color\":[\"#00cc00\",\"#ff0000\",\"#00cc00\",\"#ff0000\",\"#00cc00\",\"#ff0000\",\"#00cc00\",\"#ff0000\",\"#00cc00\",\"#ff0000\",\"#00cc00\",\"#ff0000\",\"#00cc00\"],\"connected\":[1,0,1,0,1,0,1,0,1,0,1,0,1],\"duration\":{\"__ndarray__\":\"TDeJPbtygUGyne+nbAsDQVK4HgXdCxZBAAAAAD4CCkHn+6mA9DKDQajGSze5gfxAaJHtvI5CSUFWDi2yLWcCQYGVQzmPvpNBMQisHDKc/EDwp8YISZOUQXWTGAT82fpAVg4tlrhqYEE=\",\"dtype\":\"float64\",\"shape\":[13]},\"end\":{\"__ndarray__\":\"LXRpfD4Nd0J9TYCiPg13QpHBr/o+DXdCkT20Lj8Nd0LlPp2UZQ13Qh34HrFlDXdCus9w2WgNd0IfKz/+aA13Qi0QfPi3DXdCSkIYFbgNd0JkZTxiCg53QmhhFn0KDndCf6xyshIOd0I=\",\"dtype\":\"float64\",\"shape\":[13]},\"index\":[14,9547,9569,9642,9679,21048,21069,22004,22015,45414,45433,69807,69824]},\"selected\":{\"id\":\"1060\",\"type\":\"Selection\"},\"selection_policy\":{\"id\":\"1061\",\"type\":\"UnionRenderers\"}},\"id\":\"1002\",\"type\":\"ColumnDataSource\"},{\"attributes\":{\"months\":[0,4,8]},\"id\":\"1057\",\"type\":\"MonthsTicker\"},{\"attributes\":{\"overlay\":{\"id\":\"1047\",\"type\":\"BoxAnnotation\"}},\"id\":\"1024\",\"type\":\"BoxZoomTool\"},{\"attributes\":{\"months\":[0,6]},\"id\":\"1058\",\"type\":\"MonthsTicker\"},{\"attributes\":{\"data_source\":{\"id\":\"1002\",\"type\":\"ColumnDataSource\"},\"glyph\":{\"id\":\"1036\",\"type\":\"HBar\"},\"hover_glyph\":null,\"muted_glyph\":null,\"nonselection_glyph\":{\"id\":\"1037\",\"type\":\"HBar\"},\"selection_glyph\":null,\"view\":{\"id\":\"1039\",\"type\":\"CDSView\"}},\"id\":\"1038\",\"type\":\"GlyphRenderer\"},{\"attributes\":{\"fill_alpha\":{\"value\":0.1},\"fill_color\":{\"value\":\"#1f77b4\"},\"height\":{\"value\":0.25},\"left\":{\"field\":\"begin\"},\"line_alpha\":{\"value\":0.1},\"line_color\":{\"value\":\"#1f77b4\"},\"right\":{\"field\":\"end\"},\"y\":{\"value\":0.125}},\"id\":\"1037\",\"type\":\"HBar\"},{\"attributes\":{},\"id\":\"1026\",\"type\":\"ResetTool\"},{\"attributes\":{},\"id\":\"1059\",\"type\":\"YearsTicker\"},{\"attributes\":{},\"id\":\"1046\",\"type\":\"BasicTickFormatter\"},{\"attributes\":{},\"id\":\"1027\",\"type\":\"HelpTool\"}],\"root_ids\":[\"1003\"]},\"title\":\"Bokeh Application\",\"version\":\"1.4.0\"}};\n",
       "  var render_items = [{\"docid\":\"05360f56-08a0-4e58-a915-394b2878e842\",\"roots\":{\"1003\":\"8ab74673-23ba-41f9-a0dc-85c2040adcbe\"}}];\n",
       "  root.Bokeh.embed.embed_items_notebook(docs_json, render_items);\n",
       "\n",
       "  }\n",
       "  if (root.Bokeh !== undefined) {\n",
       "    embed_document(root);\n",
       "  } else {\n",
       "    var attempts = 0;\n",
       "    var timer = setInterval(function(root) {\n",
       "      if (root.Bokeh !== undefined) {\n",
       "        clearInterval(timer);\n",
       "        embed_document(root);\n",
       "      } else {\n",
       "        attempts++;\n",
       "        if (attempts > 100) {\n",
       "          clearInterval(timer);\n",
       "          console.log(\"Bokeh: ERROR: Unable to run BokehJS code because BokehJS library is missing\");\n",
       "        }\n",
       "      }\n",
       "    }, 10, root)\n",
       "  }\n",
       "})(window);"
      ],
      "application/vnd.bokehjs_exec.v0+json": ""
     },
     "metadata": {
      "application/vnd.bokehjs_exec.v0+json": {
       "id": "1003"
      }
     },
     "output_type": "display_data"
    }
   ],
   "source": [
    "device = 'PTL_RD_ES_012'\n",
    "device_data = data.loc[device]\n",
    "data_source = ColumnDataSource(device_data)\n",
    "x_range = device_data.begin.min(), device_data.end.max()\n",
    "fig = figure(x_axis_type=\"datetime\", x_range=x_range, y_range=(0, 0.25),\n",
    "             plot_height=50, plot_width=800)\n",
    "fig.hbar(y=0.125, left='begin', right='end', height=0.25, color='color', source=data_source)\n",
    "fig.yaxis.visible=False\n",
    "fig.toolbar.logo = None\n",
    "fig.toolbar_location = None\n",
    "show(fig)"
   ]
  },
  {
   "cell_type": "code",
   "execution_count": 7,
   "metadata": {},
   "outputs": [
    {
     "data": {
      "text/html": [
       "\n",
       "\n",
       "\n",
       "\n",
       "\n",
       "\n",
       "  <div class=\"bk-root\" id=\"b28d2a7d-dfc4-4532-bf7f-0a92789c69cf\" data-root-id=\"1398\"></div>\n"
      ]
     },
     "metadata": {},
     "output_type": "display_data"
    },
    {
     "data": {
      "application/javascript": [
       "(function(root) {\n",
       "  function embed_document(root) {\n",
       "    \n",
       "  var docs_json = {\"deea6551-36d8-4b3d-931c-982ddeea8c27\":{\"roots\":{\"references\":[{\"attributes\":{\"below\":[{\"id\":\"1407\",\"type\":\"DatetimeAxis\"}],\"center\":[{\"id\":\"1411\",\"type\":\"Grid\"},{\"id\":\"1416\",\"type\":\"Grid\"}],\"left\":[{\"id\":\"1412\",\"type\":\"LinearAxis\"}],\"plot_height\":50,\"plot_width\":800,\"renderers\":[{\"id\":\"1433\",\"type\":\"GlyphRenderer\"}],\"title\":{\"id\":\"1480\",\"type\":\"Title\"},\"toolbar\":{\"id\":\"1423\",\"type\":\"Toolbar\"},\"toolbar_location\":null,\"x_range\":{\"id\":\"1399\",\"type\":\"Range1d\"},\"x_scale\":{\"id\":\"1403\",\"type\":\"LinearScale\"},\"y_range\":{\"id\":\"1401\",\"type\":\"Range1d\"},\"y_scale\":{\"id\":\"1405\",\"type\":\"LinearScale\"}},\"id\":\"1398\",\"subtype\":\"Figure\",\"type\":\"Plot\"},{\"attributes\":{\"callback\":null,\"end\":1584325666602.781,\"start\":1584066555695.5688},\"id\":\"1399\",\"type\":\"Range1d\"},{\"attributes\":{},\"id\":\"1421\",\"type\":\"ResetTool\"},{\"attributes\":{\"overlay\":{\"id\":\"1486\",\"type\":\"BoxAnnotation\"}},\"id\":\"1419\",\"type\":\"BoxZoomTool\"},{\"attributes\":{},\"id\":\"1420\",\"type\":\"SaveTool\"},{\"attributes\":{},\"id\":\"1498\",\"type\":\"YearsTicker\"},{\"attributes\":{},\"id\":\"1422\",\"type\":\"HelpTool\"},{\"attributes\":{\"callback\":null,\"end\":0.25},\"id\":\"1401\",\"type\":\"Range1d\"},{\"attributes\":{},\"id\":\"1405\",\"type\":\"LinearScale\"},{\"attributes\":{\"source\":{\"id\":\"1397\",\"type\":\"ColumnDataSource\"}},\"id\":\"1434\",\"type\":\"CDSView\"},{\"attributes\":{\"fill_alpha\":{\"value\":0.1},\"fill_color\":{\"value\":\"#1f77b4\"},\"height\":{\"value\":0.25},\"left\":{\"field\":\"begin\"},\"line_alpha\":{\"value\":0.1},\"line_color\":{\"value\":\"#1f77b4\"},\"right\":{\"field\":\"end\"},\"y\":{\"value\":0.125}},\"id\":\"1432\",\"type\":\"HBar\"},{\"attributes\":{\"grid_line_color\":null,\"ticker\":{\"id\":\"1408\",\"type\":\"DatetimeTicker\"}},\"id\":\"1411\",\"type\":\"Grid\"},{\"attributes\":{\"bottom_units\":\"screen\",\"fill_alpha\":{\"value\":0.5},\"fill_color\":{\"value\":\"lightgrey\"},\"left_units\":\"screen\",\"level\":\"overlay\",\"line_alpha\":{\"value\":1.0},\"line_color\":{\"value\":\"black\"},\"line_dash\":[4,4],\"line_width\":{\"value\":2},\"render_mode\":\"css\",\"right_units\":\"screen\",\"top_units\":\"screen\"},\"id\":\"1486\",\"type\":\"BoxAnnotation\"},{\"attributes\":{\"callback\":null,\"formatters\":{\"begin\":\"datetime\",\"connected\":\"printf\",\"duration_str\":\"printf\",\"end\":\"datetime\"},\"tooltips\":[[\"begin\",\"@begin{%F %H:%M:%S}\"],[\"end\",\"@end{%F %H:%M:%S}\"],[\"duration\",\"@duration_str\"],[\"status\",\"@connection_status\"]]},\"id\":\"1436\",\"type\":\"HoverTool\"},{\"attributes\":{\"num_minor_ticks\":5,\"tickers\":[{\"id\":\"1487\",\"type\":\"AdaptiveTicker\"},{\"id\":\"1488\",\"type\":\"AdaptiveTicker\"},{\"id\":\"1489\",\"type\":\"AdaptiveTicker\"},{\"id\":\"1490\",\"type\":\"DaysTicker\"},{\"id\":\"1491\",\"type\":\"DaysTicker\"},{\"id\":\"1492\",\"type\":\"DaysTicker\"},{\"id\":\"1493\",\"type\":\"DaysTicker\"},{\"id\":\"1494\",\"type\":\"MonthsTicker\"},{\"id\":\"1495\",\"type\":\"MonthsTicker\"},{\"id\":\"1496\",\"type\":\"MonthsTicker\"},{\"id\":\"1497\",\"type\":\"MonthsTicker\"},{\"id\":\"1498\",\"type\":\"YearsTicker\"}]},\"id\":\"1408\",\"type\":\"DatetimeTicker\"},{\"attributes\":{\"text\":\"\"},\"id\":\"1480\",\"type\":\"Title\"},{\"attributes\":{\"formatter\":{\"id\":\"1483\",\"type\":\"DatetimeTickFormatter\"},\"ticker\":{\"id\":\"1408\",\"type\":\"DatetimeTicker\"}},\"id\":\"1407\",\"type\":\"DatetimeAxis\"},{\"attributes\":{\"base\":24,\"mantissas\":[1,2,4,6,8,12],\"max_interval\":43200000.0,\"min_interval\":3600000.0,\"num_minor_ticks\":0},\"id\":\"1489\",\"type\":\"AdaptiveTicker\"},{\"attributes\":{\"dimension\":1,\"grid_line_color\":null,\"ticker\":{\"id\":\"1413\",\"type\":\"BasicTicker\"}},\"id\":\"1416\",\"type\":\"Grid\"},{\"attributes\":{\"data_source\":{\"id\":\"1397\",\"type\":\"ColumnDataSource\"},\"glyph\":{\"id\":\"1431\",\"type\":\"HBar\"},\"hover_glyph\":null,\"muted_glyph\":null,\"nonselection_glyph\":{\"id\":\"1432\",\"type\":\"HBar\"},\"selection_glyph\":null,\"view\":{\"id\":\"1434\",\"type\":\"CDSView\"}},\"id\":\"1433\",\"type\":\"GlyphRenderer\"},{\"attributes\":{\"days\":[1,2,3,4,5,6,7,8,9,10,11,12,13,14,15,16,17,18,19,20,21,22,23,24,25,26,27,28,29,30,31]},\"id\":\"1490\",\"type\":\"DaysTicker\"},{\"attributes\":{},\"id\":\"1499\",\"type\":\"Selection\"},{\"attributes\":{\"base\":60,\"mantissas\":[1,2,5,10,15,20,30],\"max_interval\":1800000.0,\"min_interval\":1000.0,\"num_minor_ticks\":0},\"id\":\"1488\",\"type\":\"AdaptiveTicker\"},{\"attributes\":{\"days\":[1,4,7,10,13,16,19,22,25,28]},\"id\":\"1491\",\"type\":\"DaysTicker\"},{\"attributes\":{},\"id\":\"1500\",\"type\":\"UnionRenderers\"},{\"attributes\":{},\"id\":\"1403\",\"type\":\"LinearScale\"},{\"attributes\":{},\"id\":\"1483\",\"type\":\"DatetimeTickFormatter\"},{\"attributes\":{\"months\":[0,4,8]},\"id\":\"1496\",\"type\":\"MonthsTicker\"},{\"attributes\":{},\"id\":\"1413\",\"type\":\"BasicTicker\"},{\"attributes\":{},\"id\":\"1418\",\"type\":\"WheelZoomTool\"},{\"attributes\":{\"months\":[0,1,2,3,4,5,6,7,8,9,10,11]},\"id\":\"1494\",\"type\":\"MonthsTicker\"},{\"attributes\":{\"formatter\":{\"id\":\"1485\",\"type\":\"BasicTickFormatter\"},\"ticker\":{\"id\":\"1413\",\"type\":\"BasicTicker\"},\"visible\":false},\"id\":\"1412\",\"type\":\"LinearAxis\"},{\"attributes\":{\"days\":[1,15]},\"id\":\"1493\",\"type\":\"DaysTicker\"},{\"attributes\":{\"months\":[0,2,4,6,8,10]},\"id\":\"1495\",\"type\":\"MonthsTicker\"},{\"attributes\":{},\"id\":\"1417\",\"type\":\"PanTool\"},{\"attributes\":{\"mantissas\":[1,2,5],\"max_interval\":500.0,\"num_minor_ticks\":0},\"id\":\"1487\",\"type\":\"AdaptiveTicker\"},{\"attributes\":{\"active_drag\":\"auto\",\"active_inspect\":\"auto\",\"active_multi\":null,\"active_scroll\":\"auto\",\"active_tap\":\"auto\",\"logo\":null,\"tools\":[{\"id\":\"1417\",\"type\":\"PanTool\"},{\"id\":\"1418\",\"type\":\"WheelZoomTool\"},{\"id\":\"1419\",\"type\":\"BoxZoomTool\"},{\"id\":\"1420\",\"type\":\"SaveTool\"},{\"id\":\"1421\",\"type\":\"ResetTool\"},{\"id\":\"1422\",\"type\":\"HelpTool\"},{\"id\":\"1436\",\"type\":\"HoverTool\"}]},\"id\":\"1423\",\"type\":\"Toolbar\"},{\"attributes\":{\"days\":[1,8,15,22]},\"id\":\"1492\",\"type\":\"DaysTicker\"},{\"attributes\":{\"callback\":null,\"data\":{\"begin\":{\"__ndarray__\":\"G/nylhsNd0ItdGl8Pg13Qn1NgKI+DXdCkcGv+j4Nd0KRPbQuPw13QuU+nZRlDXdCHfgesWUNd0K6z3DZaA13Qh8rP/5oDXdCLRB8+LcNd0JKQhgVuA13QmRlPGIKDndCaGEWfQoOd0I=\",\"dtype\":\"float64\",\"shape\":[13]},\"color\":[\"#00cc00\",\"#ff0000\",\"#00cc00\",\"#ff0000\",\"#00cc00\",\"#ff0000\",\"#00cc00\",\"#ff0000\",\"#00cc00\",\"#ff0000\",\"#00cc00\",\"#ff0000\",\"#00cc00\"],\"connected\":[1,0,1,0,1,0,1,0,1,0,1,0,1],\"connection_status\":[\"connected\",\"lost signal\",\"connected\",\"lost signal\",\"connected\",\"lost signal\",\"connected\",\"lost signal\",\"connected\",\"lost signal\",\"connected\",\"lost signal\",\"connected\"],\"duration\":{\"__ndarray__\":\"TDeJPbtygUGyne+nbAsDQVK4HgXdCxZBAAAAAD4CCkHn+6mA9DKDQajGSze5gfxAaJHtvI5CSUFWDi2yLWcCQYGVQzmPvpNBMQisHDKc/EDwp8YISZOUQXWTGAT82fpAVg4tlrhqYEE=\",\"dtype\":\"float64\",\"shape\":[13]},\"duration_str\":[\"10:09:51\",\"00:02:36\",\"00:06:01\",\"00:03:33\",\"11:11:03\",\"00:01:56\",\"00:55:10\",\"00:02:30\",\"23:00:13\",\"00:01:57\",\"23:58:19\",\"00:01:49\",\"02:23:27\"],\"end\":{\"__ndarray__\":\"LXRpfD4Nd0J9TYCiPg13QpHBr/o+DXdCkT20Lj8Nd0LlPp2UZQ13Qh34HrFlDXdCus9w2WgNd0IfKz/+aA13Qi0QfPi3DXdCSkIYFbgNd0JkZTxiCg53QmhhFn0KDndCf6xyshIOd0I=\",\"dtype\":\"float64\",\"shape\":[13]},\"index\":[14,9547,9569,9642,9679,21048,21069,22004,22015,45414,45433,69807,69824]},\"selected\":{\"id\":\"1499\",\"type\":\"Selection\"},\"selection_policy\":{\"id\":\"1500\",\"type\":\"UnionRenderers\"}},\"id\":\"1397\",\"type\":\"ColumnDataSource\"},{\"attributes\":{\"months\":[0,6]},\"id\":\"1497\",\"type\":\"MonthsTicker\"},{\"attributes\":{\"fill_color\":{\"field\":\"color\"},\"height\":{\"value\":0.25},\"left\":{\"field\":\"begin\"},\"line_color\":{\"field\":\"color\"},\"right\":{\"field\":\"end\"},\"y\":{\"value\":0.125}},\"id\":\"1431\",\"type\":\"HBar\"},{\"attributes\":{},\"id\":\"1485\",\"type\":\"BasicTickFormatter\"}],\"root_ids\":[\"1398\"]},\"title\":\"Bokeh Application\",\"version\":\"1.4.0\"}};\n",
       "  var render_items = [{\"docid\":\"deea6551-36d8-4b3d-931c-982ddeea8c27\",\"roots\":{\"1398\":\"b28d2a7d-dfc4-4532-bf7f-0a92789c69cf\"}}];\n",
       "  root.Bokeh.embed.embed_items_notebook(docs_json, render_items);\n",
       "\n",
       "  }\n",
       "  if (root.Bokeh !== undefined) {\n",
       "    embed_document(root);\n",
       "  } else {\n",
       "    var attempts = 0;\n",
       "    var timer = setInterval(function(root) {\n",
       "      if (root.Bokeh !== undefined) {\n",
       "        clearInterval(timer);\n",
       "        embed_document(root);\n",
       "      } else {\n",
       "        attempts++;\n",
       "        if (attempts > 100) {\n",
       "          clearInterval(timer);\n",
       "          console.log(\"Bokeh: ERROR: Unable to run BokehJS code because BokehJS library is missing\");\n",
       "        }\n",
       "      }\n",
       "    }, 10, root)\n",
       "  }\n",
       "})(window);"
      ],
      "application/vnd.bokehjs_exec.v0+json": ""
     },
     "metadata": {
      "application/vnd.bokehjs_exec.v0+json": {
       "id": "1398"
      }
     },
     "output_type": "display_data"
    }
   ],
   "source": [
    "device = 'PTL_RD_ES_012'\n",
    "device_data = data.loc[device]\n",
    "fig = plot_connection_times(device_data)\n",
    "show(fig)"
   ]
  },
  {
   "cell_type": "markdown",
   "metadata": {},
   "source": [
    "# Presense plot"
   ]
  },
  {
   "cell_type": "code",
   "execution_count": null,
   "metadata": {},
   "outputs": [],
   "source": [
    "# TODO:\n",
    "# test time range: begin=2020-03-14 00:00:00&end=2020-03-16 09:27:58 for PTL_RD_AT_001\n",
    "# we get a overlapping gray bar in this case (and many other, but not always)\n",
    "# there is a similar bug for the connection times"
   ]
  },
  {
   "cell_type": "code",
   "execution_count": 3,
   "metadata": {},
   "outputs": [],
   "source": [
    "from app import PresenceDetectorStatistics"
   ]
  },
  {
   "cell_type": "code",
   "execution_count": 28,
   "metadata": {},
   "outputs": [],
   "source": [
    "since = datetime.now() - timedelta(days=5)\n",
    "until = datetime.now() - timedelta(days=4)\n",
    "data = PresenceDetectorStatistics().on_off_timeseries(since, until)"
   ]
  },
  {
   "cell_type": "code",
   "execution_count": 62,
   "metadata": {},
   "outputs": [],
   "source": [
    "colors = ['#eeeeee', '#ffcc00']"
   ]
  },
  {
   "cell_type": "code",
   "execution_count": null,
   "metadata": {},
   "outputs": [],
   "source": []
  },
  {
   "cell_type": "code",
   "execution_count": 63,
   "metadata": {},
   "outputs": [],
   "source": [
    "data['color'] = data.value.apply(lambda x: colors[x])"
   ]
  },
  {
   "cell_type": "code",
   "execution_count": 65,
   "metadata": {},
   "outputs": [
    {
     "data": {
      "text/html": [
       "\n",
       "\n",
       "\n",
       "\n",
       "\n",
       "\n",
       "  <div class=\"bk-root\" id=\"1a114711-0f67-49aa-9bff-be1deb1d428b\" data-root-id=\"12220\"></div>\n"
      ]
     },
     "metadata": {},
     "output_type": "display_data"
    },
    {
     "data": {
      "application/javascript": [
       "(function(root) {\n",
       "  function embed_document(root) {\n",
       "    \n",
       "  var docs_json = {\"c3d2663b-f8e6-4816-8eda-bc77f69e820a\":{\"roots\":{\"references\":[{\"attributes\":{\"below\":[{\"id\":\"12229\",\"type\":\"DatetimeAxis\"}],\"center\":[{\"id\":\"12233\",\"type\":\"Grid\"},{\"id\":\"12238\",\"type\":\"Grid\"}],\"left\":[{\"id\":\"12234\",\"type\":\"LinearAxis\"}],\"outline_line_color\":{\"value\":null},\"plot_height\":50,\"plot_width\":800,\"renderers\":[{\"id\":\"12255\",\"type\":\"GlyphRenderer\"},{\"id\":\"12260\",\"type\":\"GlyphRenderer\"}],\"title\":{\"id\":\"12804\",\"type\":\"Title\"},\"toolbar\":{\"id\":\"12245\",\"type\":\"Toolbar\"},\"toolbar_location\":null,\"x_range\":{\"id\":\"12221\",\"type\":\"Range1d\"},\"x_scale\":{\"id\":\"12225\",\"type\":\"LinearScale\"},\"y_range\":{\"id\":\"12223\",\"type\":\"DataRange1d\"},\"y_scale\":{\"id\":\"12227\",\"type\":\"LinearScale\"}},\"id\":\"12220\",\"subtype\":\"Figure\",\"type\":\"Plot\"},{\"attributes\":{},\"id\":\"12240\",\"type\":\"WheelZoomTool\"},{\"attributes\":{},\"id\":\"12813\",\"type\":\"Selection\"},{\"attributes\":{\"num_minor_ticks\":5,\"tickers\":[{\"id\":\"12815\",\"type\":\"AdaptiveTicker\"},{\"id\":\"12816\",\"type\":\"AdaptiveTicker\"},{\"id\":\"12817\",\"type\":\"AdaptiveTicker\"},{\"id\":\"12818\",\"type\":\"DaysTicker\"},{\"id\":\"12819\",\"type\":\"DaysTicker\"},{\"id\":\"12820\",\"type\":\"DaysTicker\"},{\"id\":\"12821\",\"type\":\"DaysTicker\"},{\"id\":\"12822\",\"type\":\"MonthsTicker\"},{\"id\":\"12823\",\"type\":\"MonthsTicker\"},{\"id\":\"12824\",\"type\":\"MonthsTicker\"},{\"id\":\"12825\",\"type\":\"MonthsTicker\"},{\"id\":\"12826\",\"type\":\"YearsTicker\"}]},\"id\":\"12230\",\"type\":\"DatetimeTicker\"},{\"attributes\":{},\"id\":\"12814\",\"type\":\"UnionRenderers\"},{\"attributes\":{},\"id\":\"12225\",\"type\":\"LinearScale\"},{\"attributes\":{\"fill_color\":{\"field\":\"color\"},\"height\":{\"value\":0.5},\"left\":{\"field\":\"begin\"},\"line_color\":{\"field\":\"color\"},\"right\":{\"field\":\"end\"},\"y\":{\"value\":0.125}},\"id\":\"12258\",\"type\":\"HBar\"},{\"attributes\":{},\"id\":\"12244\",\"type\":\"HelpTool\"},{\"attributes\":{\"mantissas\":[1,2,5],\"max_interval\":500.0,\"num_minor_ticks\":0},\"id\":\"12815\",\"type\":\"AdaptiveTicker\"},{\"attributes\":{\"dimension\":1,\"grid_line_color\":null,\"ticker\":{\"id\":\"12235\",\"type\":\"BasicTicker\"}},\"id\":\"12238\",\"type\":\"Grid\"},{\"attributes\":{},\"id\":\"12242\",\"type\":\"SaveTool\"},{\"attributes\":{},\"id\":\"12239\",\"type\":\"PanTool\"},{\"attributes\":{\"text\":\"\"},\"id\":\"12804\",\"type\":\"Title\"},{\"attributes\":{\"fill_color\":{\"field\":\"color\"},\"height\":{\"value\":0.25},\"left\":{\"field\":\"begin\"},\"line_color\":{\"field\":\"color\"},\"right\":{\"field\":\"end\"},\"y\":{\"value\":0.125}},\"id\":\"12253\",\"type\":\"HBar\"},{\"attributes\":{\"base\":60,\"mantissas\":[1,2,5,10,15,20,30],\"max_interval\":1800000.0,\"min_interval\":1000.0,\"num_minor_ticks\":0},\"id\":\"12816\",\"type\":\"AdaptiveTicker\"},{\"attributes\":{\"formatter\":{\"id\":\"12809\",\"type\":\"DatetimeTickFormatter\"},\"ticker\":{\"id\":\"12230\",\"type\":\"DatetimeTicker\"}},\"id\":\"12229\",\"type\":\"DatetimeAxis\"},{\"attributes\":{\"fill_alpha\":{\"value\":0.1},\"fill_color\":{\"value\":\"#1f77b4\"},\"height\":{\"value\":0.5},\"left\":{\"field\":\"begin\"},\"line_alpha\":{\"value\":0.1},\"line_color\":{\"value\":\"#1f77b4\"},\"right\":{\"field\":\"end\"},\"y\":{\"value\":0.125}},\"id\":\"12259\",\"type\":\"HBar\"},{\"attributes\":{\"base\":24,\"mantissas\":[1,2,4,6,8,12],\"max_interval\":43200000.0,\"min_interval\":3600000.0,\"num_minor_ticks\":0},\"id\":\"12817\",\"type\":\"AdaptiveTicker\"},{\"attributes\":{\"source\":{\"id\":\"12217\",\"type\":\"ColumnDataSource\"}},\"id\":\"12256\",\"type\":\"CDSView\"},{\"attributes\":{\"overlay\":{\"id\":\"12810\",\"type\":\"BoxAnnotation\"}},\"id\":\"12241\",\"type\":\"BoxZoomTool\"},{\"attributes\":{\"days\":[1,2,3,4,5,6,7,8,9,10,11,12,13,14,15,16,17,18,19,20,21,22,23,24,25,26,27,28,29,30,31]},\"id\":\"12818\",\"type\":\"DaysTicker\"},{\"attributes\":{\"active_drag\":\"auto\",\"active_inspect\":\"auto\",\"active_multi\":null,\"active_scroll\":\"auto\",\"active_tap\":\"auto\",\"logo\":null,\"tools\":[{\"id\":\"12239\",\"type\":\"PanTool\"},{\"id\":\"12240\",\"type\":\"WheelZoomTool\"},{\"id\":\"12241\",\"type\":\"BoxZoomTool\"},{\"id\":\"12242\",\"type\":\"SaveTool\"},{\"id\":\"12243\",\"type\":\"ResetTool\"},{\"id\":\"12244\",\"type\":\"HelpTool\"}]},\"id\":\"12245\",\"type\":\"Toolbar\"},{\"attributes\":{},\"id\":\"12235\",\"type\":\"BasicTicker\"},{\"attributes\":{\"days\":[1,4,7,10,13,16,19,22,25,28]},\"id\":\"12819\",\"type\":\"DaysTicker\"},{\"attributes\":{},\"id\":\"12807\",\"type\":\"BasicTickFormatter\"},{\"attributes\":{\"callback\":null,\"data\":{\"begin\":{\"__ndarray__\":\"2zMBEIgMd0Jcu89Xjwx3QiO9ImarDHdCi/TPbasMd0IxdGg5xwx3Qt3s5EDHDHdCRtrKtccMd0I=\",\"dtype\":\"float64\",\"shape\":[7]},\"color\":[\"#ffcc00\",\"#eeeeee\",\"#ffcc00\",\"#eeeeee\",\"#ffcc00\",\"#eeeeee\",\"#ffcc00\"],\"duration\":{\"__ndarray__\":\"kxgEHjofXUHwp8YBUw58QYPAyqHdtN5AVOOlf5jLe0GcxCCw4vHdQAisHFp7OR1B7nw/NSZ30kA=\",\"dtype\":\"float64\",\"shape\":[7]},\"end\":{\"__ndarray__\":\"XLvPV48Md0IjvSJmqwx3Qov0z22rDHdCMXRoOccMd0Ld7ORAxwx3QkbayrXHDHdC06NouscMd0I=\",\"dtype\":\"float64\",\"shape\":[7]},\"index\":[7,8,9,10,11,12,13],\"keep_row\":{\"__ndarray__\":\"AAAAAAAA8D8AAAAAAADwvwAAAAAAAPA/AAAAAAAA8L8AAAAAAADwPwAAAAAAAPC/AAAAAAAA8D8=\",\"dtype\":\"float64\",\"shape\":[7]},\"value\":[1,0,1,0,1,0,1]},\"selected\":{\"id\":\"12811\",\"type\":\"Selection\"},\"selection_policy\":{\"id\":\"12812\",\"type\":\"UnionRenderers\"}},\"id\":\"12217\",\"type\":\"ColumnDataSource\"},{\"attributes\":{\"days\":[1,8,15,22]},\"id\":\"12820\",\"type\":\"DaysTicker\"},{\"attributes\":{\"callback\":null,\"data\":{\"begin\":{\"__ndarray__\":\"2zMBEIgMd0IjvSJmqwx3QjF0aDnHDHdCRtrKtccMd0I=\",\"dtype\":\"float64\",\"shape\":[4]},\"color\":[\"#ffcc00\",\"#ffcc00\",\"#ffcc00\",\"#ffcc00\"],\"duration\":{\"__ndarray__\":\"kxgEHjofXUGDwMqh3bTeQJzEILDi8d1A7nw/NSZ30kA=\",\"dtype\":\"float64\",\"shape\":[4]},\"end\":{\"__ndarray__\":\"XLvPV48Md0KL9M9tqwx3Qt3s5EDHDHdC06NouscMd0I=\",\"dtype\":\"float64\",\"shape\":[4]},\"index\":[7,9,11,13],\"keep_row\":{\"__ndarray__\":\"AAAAAAAA8D8AAAAAAADwPwAAAAAAAPA/AAAAAAAA8D8=\",\"dtype\":\"float64\",\"shape\":[4]},\"value\":[1,1,1,1]},\"selected\":{\"id\":\"12813\",\"type\":\"Selection\"},\"selection_policy\":{\"id\":\"12814\",\"type\":\"UnionRenderers\"}},\"id\":\"12219\",\"type\":\"ColumnDataSource\"},{\"attributes\":{\"callback\":null,\"end\":1583978620554.239,\"start\":1583911862291.241},\"id\":\"12221\",\"type\":\"Range1d\"},{\"attributes\":{},\"id\":\"12809\",\"type\":\"DatetimeTickFormatter\"},{\"attributes\":{\"days\":[1,15]},\"id\":\"12821\",\"type\":\"DaysTicker\"},{\"attributes\":{},\"id\":\"12243\",\"type\":\"ResetTool\"},{\"attributes\":{\"data_source\":{\"id\":\"12219\",\"type\":\"ColumnDataSource\"},\"glyph\":{\"id\":\"12258\",\"type\":\"HBar\"},\"hover_glyph\":null,\"muted_glyph\":null,\"nonselection_glyph\":{\"id\":\"12259\",\"type\":\"HBar\"},\"selection_glyph\":null,\"view\":{\"id\":\"12261\",\"type\":\"CDSView\"}},\"id\":\"12260\",\"type\":\"GlyphRenderer\"},{\"attributes\":{\"months\":[0,1,2,3,4,5,6,7,8,9,10,11]},\"id\":\"12822\",\"type\":\"MonthsTicker\"},{\"attributes\":{\"months\":[0,2,4,6,8,10]},\"id\":\"12823\",\"type\":\"MonthsTicker\"},{\"attributes\":{\"fill_alpha\":{\"value\":0.1},\"fill_color\":{\"value\":\"#1f77b4\"},\"height\":{\"value\":0.25},\"left\":{\"field\":\"begin\"},\"line_alpha\":{\"value\":0.1},\"line_color\":{\"value\":\"#1f77b4\"},\"right\":{\"field\":\"end\"},\"y\":{\"value\":0.125}},\"id\":\"12254\",\"type\":\"HBar\"},{\"attributes\":{\"months\":[0,4,8]},\"id\":\"12824\",\"type\":\"MonthsTicker\"},{\"attributes\":{\"months\":[0,6]},\"id\":\"12825\",\"type\":\"MonthsTicker\"},{\"attributes\":{\"source\":{\"id\":\"12219\",\"type\":\"ColumnDataSource\"}},\"id\":\"12261\",\"type\":\"CDSView\"},{\"attributes\":{\"callback\":null},\"id\":\"12223\",\"type\":\"DataRange1d\"},{\"attributes\":{},\"id\":\"12826\",\"type\":\"YearsTicker\"},{\"attributes\":{\"bottom_units\":\"screen\",\"fill_alpha\":{\"value\":0.5},\"fill_color\":{\"value\":\"lightgrey\"},\"left_units\":\"screen\",\"level\":\"overlay\",\"line_alpha\":{\"value\":1.0},\"line_color\":{\"value\":\"black\"},\"line_dash\":[4,4],\"line_width\":{\"value\":2},\"render_mode\":\"css\",\"right_units\":\"screen\",\"top_units\":\"screen\"},\"id\":\"12810\",\"type\":\"BoxAnnotation\"},{\"attributes\":{},\"id\":\"12811\",\"type\":\"Selection\"},{\"attributes\":{\"data_source\":{\"id\":\"12217\",\"type\":\"ColumnDataSource\"},\"glyph\":{\"id\":\"12253\",\"type\":\"HBar\"},\"hover_glyph\":null,\"muted_glyph\":null,\"nonselection_glyph\":{\"id\":\"12254\",\"type\":\"HBar\"},\"selection_glyph\":null,\"view\":{\"id\":\"12256\",\"type\":\"CDSView\"}},\"id\":\"12255\",\"type\":\"GlyphRenderer\"},{\"attributes\":{},\"id\":\"12812\",\"type\":\"UnionRenderers\"},{\"attributes\":{\"formatter\":{\"id\":\"12807\",\"type\":\"BasicTickFormatter\"},\"ticker\":{\"id\":\"12235\",\"type\":\"BasicTicker\"},\"visible\":false},\"id\":\"12234\",\"type\":\"LinearAxis\"},{\"attributes\":{\"grid_line_color\":null,\"ticker\":{\"id\":\"12230\",\"type\":\"DatetimeTicker\"}},\"id\":\"12233\",\"type\":\"Grid\"},{\"attributes\":{},\"id\":\"12227\",\"type\":\"LinearScale\"}],\"root_ids\":[\"12220\"]},\"title\":\"Bokeh Application\",\"version\":\"1.4.0\"}};\n",
       "  var render_items = [{\"docid\":\"c3d2663b-f8e6-4816-8eda-bc77f69e820a\",\"roots\":{\"12220\":\"1a114711-0f67-49aa-9bff-be1deb1d428b\"}}];\n",
       "  root.Bokeh.embed.embed_items_notebook(docs_json, render_items);\n",
       "\n",
       "  }\n",
       "  if (root.Bokeh !== undefined) {\n",
       "    embed_document(root);\n",
       "  } else {\n",
       "    var attempts = 0;\n",
       "    var timer = setInterval(function(root) {\n",
       "      if (root.Bokeh !== undefined) {\n",
       "        clearInterval(timer);\n",
       "        embed_document(root);\n",
       "      } else {\n",
       "        attempts++;\n",
       "        if (attempts > 100) {\n",
       "          clearInterval(timer);\n",
       "          console.log(\"Bokeh: ERROR: Unable to run BokehJS code because BokehJS library is missing\");\n",
       "        }\n",
       "      }\n",
       "    }, 10, root)\n",
       "  }\n",
       "})(window);"
      ],
      "application/vnd.bokehjs_exec.v0+json": ""
     },
     "metadata": {
      "application/vnd.bokehjs_exec.v0+json": {
       "id": "12220"
      }
     },
     "output_type": "display_data"
    }
   ],
   "source": [
    "device = 'PTL_RD_AT_001'\n",
    "device_data = data.loc[device].dropna()\n",
    "data_source = ColumnDataSource(device_data)\n",
    "data_source_off = ColumnDataSource(device_data[device_data.value == 0])\n",
    "data_source_on = ColumnDataSource(device_data[device_data.value == 1])\n",
    "x_range = device_data.begin.min(), device_data.end.max()\n",
    "fig = figure(x_axis_type=\"datetime\", x_range=x_range,\n",
    "             plot_height=50, plot_width=800)\n",
    "fig.hbar(y=0.125, left='begin', right='end', height=0.25, color='color', source=data_source)\n",
    "fig.hbar(y=0.125, left='begin', right='end', height=0.5, color='color', source=data_source_on)\n",
    "fig.yaxis.visible=False\n",
    "fig.toolbar.logo = None\n",
    "fig.toolbar_location = None\n",
    "fig.xgrid.grid_line_color = None\n",
    "fig.ygrid.grid_line_color = None\n",
    "fig.outline_line_color = None\n",
    "show(fig)"
   ]
  },
  {
   "cell_type": "code",
   "execution_count": 47,
   "metadata": {},
   "outputs": [
    {
     "data": {
      "text/html": [
       "<div>\n",
       "<style scoped>\n",
       "    .dataframe tbody tr th:only-of-type {\n",
       "        vertical-align: middle;\n",
       "    }\n",
       "\n",
       "    .dataframe tbody tr th {\n",
       "        vertical-align: top;\n",
       "    }\n",
       "\n",
       "    .dataframe thead th {\n",
       "        text-align: right;\n",
       "    }\n",
       "</style>\n",
       "<table border=\"1\" class=\"dataframe\">\n",
       "  <thead>\n",
       "    <tr style=\"text-align: right;\">\n",
       "      <th></th>\n",
       "      <th>begin</th>\n",
       "      <th>value</th>\n",
       "      <th>keep_row</th>\n",
       "      <th>duration</th>\n",
       "      <th>end</th>\n",
       "      <th>color</th>\n",
       "    </tr>\n",
       "  </thead>\n",
       "  <tbody>\n",
       "    <tr>\n",
       "      <th>8</th>\n",
       "      <td>2020-03-11 09:38:16.443710</td>\n",
       "      <td>0</td>\n",
       "      <td>-1.0</td>\n",
       "      <td>08:10:18.800111</td>\n",
       "      <td>2020-03-11 17:48:35.243821</td>\n",
       "      <td>#ff0000</td>\n",
       "    </tr>\n",
       "    <tr>\n",
       "      <th>10</th>\n",
       "      <td>2020-03-11 17:49:06.687284</td>\n",
       "      <td>0</td>\n",
       "      <td>-1.0</td>\n",
       "      <td>08:05:45.479978</td>\n",
       "      <td>2020-03-12 01:54:52.167262</td>\n",
       "      <td>#ff0000</td>\n",
       "    </tr>\n",
       "    <tr>\n",
       "      <th>12</th>\n",
       "      <td>2020-03-12 01:55:22.830804</td>\n",
       "      <td>0</td>\n",
       "      <td>-1.0</td>\n",
       "      <td>00:07:58.814838</td>\n",
       "      <td>2020-03-12 02:03:21.645642</td>\n",
       "      <td>#ff0000</td>\n",
       "    </tr>\n",
       "  </tbody>\n",
       "</table>\n",
       "</div>"
      ],
      "text/plain": [
       "                        begin  value  keep_row        duration  \\\n",
       "8  2020-03-11 09:38:16.443710      0      -1.0 08:10:18.800111   \n",
       "10 2020-03-11 17:49:06.687284      0      -1.0 08:05:45.479978   \n",
       "12 2020-03-12 01:55:22.830804      0      -1.0 00:07:58.814838   \n",
       "\n",
       "                          end    color  \n",
       "8  2020-03-11 17:48:35.243821  #ff0000  \n",
       "10 2020-03-12 01:54:52.167262  #ff0000  \n",
       "12 2020-03-12 02:03:21.645642  #ff0000  "
      ]
     },
     "execution_count": 47,
     "metadata": {},
     "output_type": "execute_result"
    }
   ],
   "source": [
    "device_data[device_data.value == 0]"
   ]
  },
  {
   "cell_type": "code",
   "execution_count": 48,
   "metadata": {},
   "outputs": [
    {
     "data": {
      "text/html": [
       "<div>\n",
       "<style scoped>\n",
       "    .dataframe tbody tr th:only-of-type {\n",
       "        vertical-align: middle;\n",
       "    }\n",
       "\n",
       "    .dataframe tbody tr th {\n",
       "        vertical-align: top;\n",
       "    }\n",
       "\n",
       "    .dataframe thead th {\n",
       "        text-align: right;\n",
       "    }\n",
       "</style>\n",
       "<table border=\"1\" class=\"dataframe\">\n",
       "  <thead>\n",
       "    <tr style=\"text-align: right;\">\n",
       "      <th></th>\n",
       "      <th>begin</th>\n",
       "      <th>value</th>\n",
       "      <th>keep_row</th>\n",
       "      <th>duration</th>\n",
       "      <th>end</th>\n",
       "      <th>color</th>\n",
       "    </tr>\n",
       "  </thead>\n",
       "  <tbody>\n",
       "    <tr>\n",
       "      <th>7</th>\n",
       "      <td>2020-03-11 07:31:02.291241</td>\n",
       "      <td>1</td>\n",
       "      <td>1.0</td>\n",
       "      <td>02:07:14.152469</td>\n",
       "      <td>2020-03-11 09:38:16.443710</td>\n",
       "      <td>#00ff00</td>\n",
       "    </tr>\n",
       "    <tr>\n",
       "      <th>9</th>\n",
       "      <td>2020-03-11 17:48:35.243821</td>\n",
       "      <td>1</td>\n",
       "      <td>1.0</td>\n",
       "      <td>00:00:31.443463</td>\n",
       "      <td>2020-03-11 17:49:06.687284</td>\n",
       "      <td>#00ff00</td>\n",
       "    </tr>\n",
       "    <tr>\n",
       "      <th>11</th>\n",
       "      <td>2020-03-12 01:54:52.167262</td>\n",
       "      <td>1</td>\n",
       "      <td>1.0</td>\n",
       "      <td>00:00:30.663542</td>\n",
       "      <td>2020-03-12 01:55:22.830804</td>\n",
       "      <td>#00ff00</td>\n",
       "    </tr>\n",
       "    <tr>\n",
       "      <th>13</th>\n",
       "      <td>2020-03-12 02:03:21.645642</td>\n",
       "      <td>1</td>\n",
       "      <td>1.0</td>\n",
       "      <td>00:00:18.908597</td>\n",
       "      <td>2020-03-12 02:03:40.554239</td>\n",
       "      <td>#00ff00</td>\n",
       "    </tr>\n",
       "  </tbody>\n",
       "</table>\n",
       "</div>"
      ],
      "text/plain": [
       "                        begin  value  keep_row        duration  \\\n",
       "7  2020-03-11 07:31:02.291241      1       1.0 02:07:14.152469   \n",
       "9  2020-03-11 17:48:35.243821      1       1.0 00:00:31.443463   \n",
       "11 2020-03-12 01:54:52.167262      1       1.0 00:00:30.663542   \n",
       "13 2020-03-12 02:03:21.645642      1       1.0 00:00:18.908597   \n",
       "\n",
       "                          end    color  \n",
       "7  2020-03-11 09:38:16.443710  #00ff00  \n",
       "9  2020-03-11 17:49:06.687284  #00ff00  \n",
       "11 2020-03-12 01:55:22.830804  #00ff00  \n",
       "13 2020-03-12 02:03:40.554239  #00ff00  "
      ]
     },
     "execution_count": 48,
     "metadata": {},
     "output_type": "execute_result"
    }
   ],
   "source": [
    "device_data[device_data.value == 1]"
   ]
  },
  {
   "cell_type": "markdown",
   "metadata": {},
   "source": [
    "# Debug"
   ]
  },
  {
   "cell_type": "code",
   "execution_count": 3,
   "metadata": {},
   "outputs": [],
   "source": [
    "from app import PresenceDetectorStatistics"
   ]
  },
  {
   "cell_type": "code",
   "execution_count": 6,
   "metadata": {},
   "outputs": [],
   "source": [
    "since = datetime.now() - timedelta(days=1)\n",
    "until = datetime.now()\n",
    "data = PresenceDetectorStatistics().on_off_timeseries(since, until)\n",
    "debug_data = PresenceDetectorStatistics().debug_on_off_timeseries(since, until)"
   ]
  },
  {
   "cell_type": "code",
   "execution_count": 7,
   "metadata": {},
   "outputs": [
    {
     "data": {
      "text/html": [
       "<div>\n",
       "<style scoped>\n",
       "    .dataframe tbody tr th:only-of-type {\n",
       "        vertical-align: middle;\n",
       "    }\n",
       "\n",
       "    .dataframe tbody tr th {\n",
       "        vertical-align: top;\n",
       "    }\n",
       "\n",
       "    .dataframe thead th {\n",
       "        text-align: right;\n",
       "    }\n",
       "</style>\n",
       "<table border=\"1\" class=\"dataframe\">\n",
       "  <thead>\n",
       "    <tr style=\"text-align: right;\">\n",
       "      <th></th>\n",
       "      <th>timestamp</th>\n",
       "      <th>value</th>\n",
       "    </tr>\n",
       "  </thead>\n",
       "  <tbody>\n",
       "    <tr>\n",
       "      <th>9</th>\n",
       "      <td>2020-03-17 09:55:42.802864</td>\n",
       "      <td>0</td>\n",
       "    </tr>\n",
       "    <tr>\n",
       "      <th>10</th>\n",
       "      <td>2020-03-17 10:04:04.718547</td>\n",
       "      <td>1</td>\n",
       "    </tr>\n",
       "    <tr>\n",
       "      <th>11</th>\n",
       "      <td>2020-03-17 10:04:10.930918</td>\n",
       "      <td>0</td>\n",
       "    </tr>\n",
       "    <tr>\n",
       "      <th>12</th>\n",
       "      <td>2020-03-17 11:12:24.241110</td>\n",
       "      <td>0</td>\n",
       "    </tr>\n",
       "    <tr>\n",
       "      <th>13</th>\n",
       "      <td>2020-03-17 11:26:05.284190</td>\n",
       "      <td>1</td>\n",
       "    </tr>\n",
       "    <tr>\n",
       "      <th>14</th>\n",
       "      <td>2020-03-17 11:26:25.046892</td>\n",
       "      <td>0</td>\n",
       "    </tr>\n",
       "  </tbody>\n",
       "</table>\n",
       "</div>"
      ],
      "text/plain": [
       "                    timestamp  value\n",
       "9  2020-03-17 09:55:42.802864      0\n",
       "10 2020-03-17 10:04:04.718547      1\n",
       "11 2020-03-17 10:04:10.930918      0\n",
       "12 2020-03-17 11:12:24.241110      0\n",
       "13 2020-03-17 11:26:05.284190      1\n",
       "14 2020-03-17 11:26:25.046892      0"
      ]
     },
     "execution_count": 7,
     "metadata": {},
     "output_type": "execute_result"
    }
   ],
   "source": [
    "debug_data.loc['PTL_RD_AT_000']"
   ]
  },
  {
   "cell_type": "code",
   "execution_count": 8,
   "metadata": {},
   "outputs": [
    {
     "data": {
      "text/html": [
       "<div>\n",
       "<style scoped>\n",
       "    .dataframe tbody tr th:only-of-type {\n",
       "        vertical-align: middle;\n",
       "    }\n",
       "\n",
       "    .dataframe tbody tr th {\n",
       "        vertical-align: top;\n",
       "    }\n",
       "\n",
       "    .dataframe thead th {\n",
       "        text-align: right;\n",
       "    }\n",
       "</style>\n",
       "<table border=\"1\" class=\"dataframe\">\n",
       "  <thead>\n",
       "    <tr style=\"text-align: right;\">\n",
       "      <th></th>\n",
       "      <th>begin</th>\n",
       "      <th>value</th>\n",
       "      <th>keep_row</th>\n",
       "      <th>duration</th>\n",
       "      <th>end</th>\n",
       "    </tr>\n",
       "  </thead>\n",
       "  <tbody>\n",
       "    <tr>\n",
       "      <th>0</th>\n",
       "      <td>2020-03-17 09:55:42.802864</td>\n",
       "      <td>0</td>\n",
       "      <td>-1.0</td>\n",
       "      <td>00:08:21.915683</td>\n",
       "      <td>2020-03-17 10:04:04.718547</td>\n",
       "    </tr>\n",
       "    <tr>\n",
       "      <th>1</th>\n",
       "      <td>2020-03-17 10:04:04.718547</td>\n",
       "      <td>1</td>\n",
       "      <td>1.0</td>\n",
       "      <td>01:08:19.522563</td>\n",
       "      <td>2020-03-17 11:12:24.241110</td>\n",
       "    </tr>\n",
       "    <tr>\n",
       "      <th>3</th>\n",
       "      <td>2020-03-17 11:12:24.241110</td>\n",
       "      <td>0</td>\n",
       "      <td>-1.0</td>\n",
       "      <td>00:13:41.043080</td>\n",
       "      <td>2020-03-17 11:26:05.284190</td>\n",
       "    </tr>\n",
       "    <tr>\n",
       "      <th>4</th>\n",
       "      <td>2020-03-17 11:26:05.284190</td>\n",
       "      <td>1</td>\n",
       "      <td>1.0</td>\n",
       "      <td>00:00:19.762702</td>\n",
       "      <td>2020-03-17 11:26:25.046892</td>\n",
       "    </tr>\n",
       "    <tr>\n",
       "      <th>5</th>\n",
       "      <td>2020-03-17 11:26:25.046892</td>\n",
       "      <td>0</td>\n",
       "      <td>NaN</td>\n",
       "      <td>NaT</td>\n",
       "      <td>NaT</td>\n",
       "    </tr>\n",
       "  </tbody>\n",
       "</table>\n",
       "</div>"
      ],
      "text/plain": [
       "                       begin  value  keep_row        duration  \\\n",
       "0 2020-03-17 09:55:42.802864      0      -1.0 00:08:21.915683   \n",
       "1 2020-03-17 10:04:04.718547      1       1.0 01:08:19.522563   \n",
       "3 2020-03-17 11:12:24.241110      0      -1.0 00:13:41.043080   \n",
       "4 2020-03-17 11:26:05.284190      1       1.0 00:00:19.762702   \n",
       "5 2020-03-17 11:26:25.046892      0       NaN             NaT   \n",
       "\n",
       "                         end  \n",
       "0 2020-03-17 10:04:04.718547  \n",
       "1 2020-03-17 11:12:24.241110  \n",
       "3 2020-03-17 11:26:05.284190  \n",
       "4 2020-03-17 11:26:25.046892  \n",
       "5                        NaT  "
      ]
     },
     "execution_count": 8,
     "metadata": {},
     "output_type": "execute_result"
    }
   ],
   "source": [
    "data.loc['PTL_RD_AT_000']"
   ]
  },
  {
   "cell_type": "code",
   "execution_count": 16,
   "metadata": {},
   "outputs": [
    {
     "data": {
      "text/html": [
       "<div>\n",
       "<style scoped>\n",
       "    .dataframe tbody tr th:only-of-type {\n",
       "        vertical-align: middle;\n",
       "    }\n",
       "\n",
       "    .dataframe tbody tr th {\n",
       "        vertical-align: top;\n",
       "    }\n",
       "\n",
       "    .dataframe thead th {\n",
       "        text-align: right;\n",
       "    }\n",
       "</style>\n",
       "<table border=\"1\" class=\"dataframe\">\n",
       "  <thead>\n",
       "    <tr style=\"text-align: right;\">\n",
       "      <th></th>\n",
       "      <th>timestamp</th>\n",
       "      <th>value</th>\n",
       "      <th>keep_row</th>\n",
       "    </tr>\n",
       "  </thead>\n",
       "  <tbody>\n",
       "    <tr>\n",
       "      <th>9</th>\n",
       "      <td>2020-03-17 09:55:42.802864</td>\n",
       "      <td>0</td>\n",
       "      <td>NaN</td>\n",
       "    </tr>\n",
       "    <tr>\n",
       "      <th>10</th>\n",
       "      <td>2020-03-17 10:04:04.718547</td>\n",
       "      <td>1</td>\n",
       "      <td>1.0</td>\n",
       "    </tr>\n",
       "    <tr>\n",
       "      <th>11</th>\n",
       "      <td>2020-03-17 10:04:10.930918</td>\n",
       "      <td>0</td>\n",
       "      <td>-1.0</td>\n",
       "    </tr>\n",
       "    <tr>\n",
       "      <th>13</th>\n",
       "      <td>2020-03-17 11:26:05.284190</td>\n",
       "      <td>1</td>\n",
       "      <td>1.0</td>\n",
       "    </tr>\n",
       "    <tr>\n",
       "      <th>14</th>\n",
       "      <td>2020-03-17 11:26:25.046892</td>\n",
       "      <td>0</td>\n",
       "      <td>-1.0</td>\n",
       "    </tr>\n",
       "  </tbody>\n",
       "</table>\n",
       "</div>"
      ],
      "text/plain": [
       "                    timestamp  value  keep_row\n",
       "9  2020-03-17 09:55:42.802864      0       NaN\n",
       "10 2020-03-17 10:04:04.718547      1       1.0\n",
       "11 2020-03-17 10:04:10.930918      0      -1.0\n",
       "13 2020-03-17 11:26:05.284190      1       1.0\n",
       "14 2020-03-17 11:26:25.046892      0      -1.0"
      ]
     },
     "execution_count": 16,
     "metadata": {},
     "output_type": "execute_result"
    }
   ],
   "source": [
    "d = debug_data\n",
    "d['keep_row'] = d.groupby('device').value.diff(periods=1)\n",
    "d = d[d.keep_row != 0.0]\n",
    "d.loc['PTL_RD_AT_000']"
   ]
  },
  {
   "cell_type": "code",
   "execution_count": 4,
   "metadata": {},
   "outputs": [
    {
     "ename": "AttributeError",
     "evalue": "'DataFrame' object has no attribute 'value'",
     "output_type": "error",
     "traceback": [
      "\u001b[0;31m---------------------------------------------------------------------------\u001b[0m",
      "\u001b[0;31mAttributeError\u001b[0m                            Traceback (most recent call last)",
      "\u001b[0;32m<ipython-input-4-ee347fabb3ca>\u001b[0m in \u001b[0;36m<module>\u001b[0;34m\u001b[0m\n\u001b[1;32m      1\u001b[0m \u001b[0msince\u001b[0m \u001b[0;34m=\u001b[0m \u001b[0mdatetime\u001b[0m\u001b[0;34m.\u001b[0m\u001b[0mnow\u001b[0m\u001b[0;34m(\u001b[0m\u001b[0;34m)\u001b[0m \u001b[0;34m-\u001b[0m \u001b[0mtimedelta\u001b[0m\u001b[0;34m(\u001b[0m\u001b[0mdays\u001b[0m\u001b[0;34m=\u001b[0m\u001b[0;36m1\u001b[0m\u001b[0;34m)\u001b[0m\u001b[0;34m\u001b[0m\u001b[0;34m\u001b[0m\u001b[0m\n\u001b[1;32m      2\u001b[0m \u001b[0muntil\u001b[0m \u001b[0;34m=\u001b[0m \u001b[0mdatetime\u001b[0m\u001b[0;34m.\u001b[0m\u001b[0mnow\u001b[0m\u001b[0;34m(\u001b[0m\u001b[0;34m)\u001b[0m\u001b[0;34m\u001b[0m\u001b[0;34m\u001b[0m\u001b[0m\n\u001b[0;32m----> 3\u001b[0;31m \u001b[0mdata\u001b[0m \u001b[0;34m=\u001b[0m \u001b[0mPresenceDetectorStatistics\u001b[0m\u001b[0;34m(\u001b[0m\u001b[0;34m)\u001b[0m\u001b[0;34m.\u001b[0m\u001b[0mon_off_timeseries\u001b[0m\u001b[0;34m(\u001b[0m\u001b[0msince\u001b[0m\u001b[0;34m,\u001b[0m \u001b[0muntil\u001b[0m\u001b[0;34m,\u001b[0m \u001b[0mdevice\u001b[0m\u001b[0;34m=\u001b[0m\u001b[0;34m\"PTL_RD_ES_009\"\u001b[0m\u001b[0;34m)\u001b[0m\u001b[0;34m\u001b[0m\u001b[0;34m\u001b[0m\u001b[0m\n\u001b[0m",
      "\u001b[0;32m~/projects/dashboard/db.py\u001b[0m in \u001b[0;36mon_off_timeseries\u001b[0;34m(self, since, until, device)\u001b[0m\n\u001b[1;32m    588\u001b[0m \u001b[0;34m\u001b[0m\u001b[0m\n\u001b[1;32m    589\u001b[0m         \u001b[0mdata\u001b[0m \u001b[0;34m=\u001b[0m \u001b[0mpd\u001b[0m\u001b[0;34m.\u001b[0m\u001b[0mDataFrame\u001b[0m\u001b[0;34m(\u001b[0m\u001b[0mquery\u001b[0m\u001b[0;34m.\u001b[0m\u001b[0mall\u001b[0m\u001b[0;34m(\u001b[0m\u001b[0;34m)\u001b[0m\u001b[0;34m)\u001b[0m\u001b[0;34m\u001b[0m\u001b[0;34m\u001b[0m\u001b[0m\n\u001b[0;32m--> 590\u001b[0;31m         \u001b[0mdata\u001b[0m\u001b[0;34m.\u001b[0m\u001b[0mvalue\u001b[0m \u001b[0;34m=\u001b[0m \u001b[0mdata\u001b[0m\u001b[0;34m.\u001b[0m\u001b[0mvalue\u001b[0m\u001b[0;34m.\u001b[0m\u001b[0mapply\u001b[0m\u001b[0;34m(\u001b[0m\u001b[0mself\u001b[0m\u001b[0;34m.\u001b[0m\u001b[0m_on_off\u001b[0m\u001b[0;34m)\u001b[0m\u001b[0;34m\u001b[0m\u001b[0;34m\u001b[0m\u001b[0m\n\u001b[0m\u001b[1;32m    591\u001b[0m \u001b[0;34m\u001b[0m\u001b[0m\n\u001b[1;32m    592\u001b[0m         \u001b[0;31m# remove consecutive rows with the same 'value'\u001b[0m\u001b[0;34m\u001b[0m\u001b[0;34m\u001b[0m\u001b[0;34m\u001b[0m\u001b[0m\n",
      "\u001b[0;32m/usr/lib/python3/dist-packages/pandas/core/generic.py\u001b[0m in \u001b[0;36m__getattr__\u001b[0;34m(self, name)\u001b[0m\n\u001b[1;32m   3612\u001b[0m             \u001b[0;32mif\u001b[0m \u001b[0mname\u001b[0m \u001b[0;32min\u001b[0m \u001b[0mself\u001b[0m\u001b[0;34m.\u001b[0m\u001b[0m_info_axis\u001b[0m\u001b[0;34m:\u001b[0m\u001b[0;34m\u001b[0m\u001b[0;34m\u001b[0m\u001b[0m\n\u001b[1;32m   3613\u001b[0m                 \u001b[0;32mreturn\u001b[0m \u001b[0mself\u001b[0m\u001b[0;34m[\u001b[0m\u001b[0mname\u001b[0m\u001b[0;34m]\u001b[0m\u001b[0;34m\u001b[0m\u001b[0;34m\u001b[0m\u001b[0m\n\u001b[0;32m-> 3614\u001b[0;31m             \u001b[0;32mreturn\u001b[0m \u001b[0mobject\u001b[0m\u001b[0;34m.\u001b[0m\u001b[0m__getattribute__\u001b[0m\u001b[0;34m(\u001b[0m\u001b[0mself\u001b[0m\u001b[0;34m,\u001b[0m \u001b[0mname\u001b[0m\u001b[0;34m)\u001b[0m\u001b[0;34m\u001b[0m\u001b[0;34m\u001b[0m\u001b[0m\n\u001b[0m\u001b[1;32m   3615\u001b[0m \u001b[0;34m\u001b[0m\u001b[0m\n\u001b[1;32m   3616\u001b[0m     \u001b[0;32mdef\u001b[0m \u001b[0m__setattr__\u001b[0m\u001b[0;34m(\u001b[0m\u001b[0mself\u001b[0m\u001b[0;34m,\u001b[0m \u001b[0mname\u001b[0m\u001b[0;34m,\u001b[0m \u001b[0mvalue\u001b[0m\u001b[0;34m)\u001b[0m\u001b[0;34m:\u001b[0m\u001b[0;34m\u001b[0m\u001b[0;34m\u001b[0m\u001b[0m\n",
      "\u001b[0;31mAttributeError\u001b[0m: 'DataFrame' object has no attribute 'value'"
     ]
    }
   ],
   "source": [
    "since = datetime.now() - timedelta(days=1)\n",
    "until = datetime.now()\n",
    "data = PresenceDetectorStatistics().on_off_timeseries(since, until, device=\"PTL_RD_ES_009\")"
   ]
  },
  {
   "cell_type": "code",
   "execution_count": 8,
   "metadata": {},
   "outputs": [],
   "source": [
    "from app import db\n",
    "from db import InstructionPackage\n",
    "device=\"PTL_RD_ES_009\"\n",
    "ip = InstructionPackage\n",
    "query = db.session.query(ip.device, ip.timestamp, ip.value) \\\n",
    "    .filter(ip.source.contains(\"Lullaby\")) \\\n",
    "    .filter(ip.instruction == \"MODE\") \\\n",
    "    .filter(ip.target == \"POWER\") \\\n",
    "    .filter(ip.timestamp >= since) \\\n",
    "    .filter(ip.timestamp <= until) \\\n",
    "    .order_by(ip.device, ip.timestamp)\n",
    "\n",
    "if device:\n",
    "    query = query.filter(ip.device == device)\n",
    "\n",
    "data = pd.DataFrame(query.all())"
   ]
  },
  {
   "cell_type": "code",
   "execution_count": 9,
   "metadata": {},
   "outputs": [
    {
     "data": {
      "text/html": [
       "<div>\n",
       "<style scoped>\n",
       "    .dataframe tbody tr th:only-of-type {\n",
       "        vertical-align: middle;\n",
       "    }\n",
       "\n",
       "    .dataframe tbody tr th {\n",
       "        vertical-align: top;\n",
       "    }\n",
       "\n",
       "    .dataframe thead th {\n",
       "        text-align: right;\n",
       "    }\n",
       "</style>\n",
       "<table border=\"1\" class=\"dataframe\">\n",
       "  <thead>\n",
       "    <tr style=\"text-align: right;\">\n",
       "      <th></th>\n",
       "    </tr>\n",
       "  </thead>\n",
       "  <tbody>\n",
       "  </tbody>\n",
       "</table>\n",
       "</div>"
      ],
      "text/plain": [
       "Empty DataFrame\n",
       "Columns: []\n",
       "Index: []"
      ]
     },
     "execution_count": 9,
     "metadata": {},
     "output_type": "execute_result"
    }
   ],
   "source": [
    "data"
   ]
  },
  {
   "cell_type": "code",
   "execution_count": 10,
   "metadata": {},
   "outputs": [
    {
     "data": {
      "text/plain": [
       "True"
      ]
     },
     "execution_count": 10,
     "metadata": {},
     "output_type": "execute_result"
    }
   ],
   "source": [
    "data.empty"
   ]
  },
  {
   "cell_type": "code",
   "execution_count": null,
   "metadata": {},
   "outputs": [],
   "source": []
  }
 ],
 "metadata": {
  "kernelspec": {
   "display_name": "Python 3",
   "language": "python",
   "name": "python3"
  },
  "language_info": {
   "codemirror_mode": {
    "name": "ipython",
    "version": 3
   },
   "file_extension": ".py",
   "mimetype": "text/x-python",
   "name": "python",
   "nbconvert_exporter": "python",
   "pygments_lexer": "ipython3",
   "version": "3.6.9"
  }
 },
 "nbformat": 4,
 "nbformat_minor": 2
}
